{
 "cells": [
  {
   "cell_type": "code",
   "execution_count": 1,
   "id": "854572d5",
   "metadata": {},
   "outputs": [],
   "source": [
    "import numpy as np\n",
    "import pandas as pd\n",
    "import seaborn as sns\n",
    "import math\n",
    "import plotly.express as px\n",
    "from plotly.subplots import make_subplots\n",
    "import plotly.graph_objs as go\n",
    "from sklearn.model_selection import train_test_split"
   ]
  },
  {
   "cell_type": "code",
   "execution_count": 2,
   "id": "c7d62897",
   "metadata": {},
   "outputs": [],
   "source": [
    "path = \"lab3-data.csv\"\n",
    "data = pd.read_csv(path,encoding = \"utf-8\",low_memory=False)"
   ]
  },
  {
   "cell_type": "code",
   "execution_count": 3,
   "id": "c043f7ab",
   "metadata": {},
   "outputs": [],
   "source": [
    "chosen_list=[\"CNTRYID\",\"ST127Q01TA\",\"ST127Q02TA\",\"EC033Q01NA\",\"EC150Q07WA\",\"EC150Q06WA\",\n",
    "             'ST005Q01TA','ST007Q01TA',\"ST001D01T\",\"GRADE\",\"REPEAT\"]\n",
    "tempdf=data[chosen_list]\n",
    "#选取\"ST127Q01TA\",\"ST127Q02TA\",\"EC033Q01NA\",\"EC150Q07WA\",\"EC150Q06WA\",'ST005Q01TA','ST007Q01TA',\"ST001D01T\",\"GRADE\"作为参与构造\n",
    "#五个新特征的原特征"
   ]
  },
  {
   "cell_type": "code",
   "execution_count": 4,
   "id": "c77c1d74",
   "metadata": {},
   "outputs": [
    {
     "name": "stdout",
     "output_type": "stream",
     "text": [
      "Part of missing values for every column\n",
      "CNTRYID       0.000000\n",
      "ST127Q01TA    0.050289\n",
      "ST127Q02TA    0.038719\n",
      "EC033Q01NA    0.285731\n",
      "EC150Q07WA    0.297586\n",
      "EC150Q06WA    0.298345\n",
      "ST005Q01TA    0.022145\n",
      "ST007Q01TA    0.039904\n",
      "ST001D01T     0.000000\n",
      "GRADE         0.000000\n",
      "REPEAT        0.001755\n",
      "dtype: float64\n"
     ]
    }
   ],
   "source": [
    "print('Part of missing values for every column')\n",
    "print(tempdf.isnull().sum() / len(tempdf))\n",
    "#显示出数据缺失情况"
   ]
  },
  {
   "cell_type": "code",
   "execution_count": 5,
   "id": "90613938",
   "metadata": {},
   "outputs": [],
   "source": [
    "tempdf=tempdf.fillna(method='ffill')\n",
    "tempdf=tempdf.fillna(method='bfill')\n",
    "#这里采取前后值参考填写缺失值"
   ]
  },
  {
   "cell_type": "code",
   "execution_count": 6,
   "id": "fd8efc61",
   "metadata": {},
   "outputs": [],
   "source": [
    "def fun0(a,b) :\n",
    "    if a+b==2.0 :\n",
    "        return 0\n",
    "    else :\n",
    "        return 1\n",
    "def fun1(a,b,c) :\n",
    "    if a+b+c<=4 :\n",
    "        return 0\n",
    "    else :\n",
    "        return 1\n",
    "def fun2(a,b) :\n",
    "    if math.sqrt((2*a**2+b**2)/3) >= 2.5 :\n",
    "        return 1\n",
    "    else :\n",
    "        return 0\n",
    "def fun3(a) :\n",
    "    if a>=10 :\n",
    "        return 0\n",
    "    else :\n",
    "        return 1\n",
    "def fun4(a) :\n",
    "    if a>=0 :\n",
    "        return 0\n",
    "    else :\n",
    "        return 1\n",
    "tempdf[\"my_repeat\"]=tempdf.apply(lambda col:fun0(col['ST127Q01TA'],col['ST127Q02TA']),axis=1)\n",
    "#采用fun0()函数构造新特征my_repeat\n",
    "tempdf[\"feature_plan\"]=tempdf.apply(lambda col:fun1(col['EC033Q01NA'],col['EC150Q07WA'],col['EC150Q06WA']),axis=1)\n",
    "#采用fun1()函数构造新特征feature_plan\n",
    "tempdf[\"m_d_education\"]=tempdf.apply(lambda col:fun2(col['ST005Q01TA'],col['ST007Q01TA']),axis=1)\n",
    "#采用fun2()函数构造新特征m_d_education\n",
    "tempdf[\"ST_grade\"]=tempdf.apply(lambda col:fun3(col['ST001D01T']),axis=1)\n",
    "#采用fun3()函数构造新特征ST_grade\n",
    "tempdf[\"update_grade\"]=tempdf.apply(lambda col:fun4(col['GRADE']),axis=1)\n",
    "#采用fun4()函数构造新特征update_grade\n",
    "itemdf=tempdf.drop([\"CNTRYID\",\"ST127Q01TA\",\"ST127Q02TA\",\"EC033Q01NA\",\"EC150Q07WA\",\"EC150Q06WA\",'ST005Q01TA','ST007Q01TA',\"ST001D01T\",\"GRADE\"],axis=1)\n",
    "#删除其他特征，保留“REPEAT”特征和五个构造的新特征\n",
    "CNTRYID_itemdf=tempdf.drop([\"ST127Q01TA\",\"ST127Q02TA\",\"EC033Q01NA\",\"EC150Q07WA\",\"EC150Q06WA\",'ST005Q01TA','ST007Q01TA',\"ST001D01T\",\"GRADE\"],axis=1)\n",
    "#删除其他特征，保留“REPEAT”特征、“CNTRYID”和五个构造的新特征,为附加题目做准备"
   ]
  },
  {
   "cell_type": "code",
   "execution_count": 7,
   "id": "357d8284",
   "metadata": {},
   "outputs": [
    {
     "data": {
      "text/html": [
       "<div>\n",
       "<style scoped>\n",
       "    .dataframe tbody tr th:only-of-type {\n",
       "        vertical-align: middle;\n",
       "    }\n",
       "\n",
       "    .dataframe tbody tr th {\n",
       "        vertical-align: top;\n",
       "    }\n",
       "\n",
       "    .dataframe thead th {\n",
       "        text-align: right;\n",
       "    }\n",
       "</style>\n",
       "<table border=\"1\" class=\"dataframe\">\n",
       "  <thead>\n",
       "    <tr style=\"text-align: right;\">\n",
       "      <th></th>\n",
       "      <th>REPEAT</th>\n",
       "      <th>my_repeat</th>\n",
       "      <th>feature_plan</th>\n",
       "      <th>m_d_education</th>\n",
       "      <th>ST_grade</th>\n",
       "      <th>update_grade</th>\n",
       "    </tr>\n",
       "  </thead>\n",
       "  <tbody>\n",
       "    <tr>\n",
       "      <th>0</th>\n",
       "      <td>0.0</td>\n",
       "      <td>0</td>\n",
       "      <td>0</td>\n",
       "      <td>0</td>\n",
       "      <td>0</td>\n",
       "      <td>0</td>\n",
       "    </tr>\n",
       "    <tr>\n",
       "      <th>1</th>\n",
       "      <td>0.0</td>\n",
       "      <td>0</td>\n",
       "      <td>0</td>\n",
       "      <td>0</td>\n",
       "      <td>0</td>\n",
       "      <td>0</td>\n",
       "    </tr>\n",
       "    <tr>\n",
       "      <th>2</th>\n",
       "      <td>0.0</td>\n",
       "      <td>0</td>\n",
       "      <td>0</td>\n",
       "      <td>0</td>\n",
       "      <td>0</td>\n",
       "      <td>0</td>\n",
       "    </tr>\n",
       "    <tr>\n",
       "      <th>3</th>\n",
       "      <td>0.0</td>\n",
       "      <td>0</td>\n",
       "      <td>0</td>\n",
       "      <td>0</td>\n",
       "      <td>0</td>\n",
       "      <td>0</td>\n",
       "    </tr>\n",
       "    <tr>\n",
       "      <th>4</th>\n",
       "      <td>0.0</td>\n",
       "      <td>0</td>\n",
       "      <td>0</td>\n",
       "      <td>0</td>\n",
       "      <td>0</td>\n",
       "      <td>0</td>\n",
       "    </tr>\n",
       "  </tbody>\n",
       "</table>\n",
       "</div>"
      ],
      "text/plain": [
       "   REPEAT  my_repeat  feature_plan  m_d_education  ST_grade  update_grade\n",
       "0     0.0          0             0              0         0             0\n",
       "1     0.0          0             0              0         0             0\n",
       "2     0.0          0             0              0         0             0\n",
       "3     0.0          0             0              0         0             0\n",
       "4     0.0          0             0              0         0             0"
      ]
     },
     "execution_count": 7,
     "metadata": {},
     "output_type": "execute_result"
    }
   ],
   "source": [
    "itemdf.head() #显示itemfdf的头部"
   ]
  },
  {
   "cell_type": "code",
   "execution_count": 8,
   "id": "166859e7",
   "metadata": {},
   "outputs": [
    {
     "data": {
      "text/plain": [
       "<AxesSubplot:>"
      ]
     },
     "execution_count": 8,
     "metadata": {},
     "output_type": "execute_result"
    },
    {
     "data": {
      "image/png": "[encoded data removed]",
      "text/plain": [
       "<Figure size 432x288 with 2 Axes>"
      ]
     },
     "metadata": {
      "needs_background": "light"
     },
     "output_type": "display_data"
    }
   ],
   "source": [
    "df=itemdf\n",
    "corr=df.corr()\n",
    "sns.heatmap(corr,xticklabels=corr.columns.values,yticklabels=corr.columns.values,annot=True,annot_kws={'size':9})\n",
    "#展示五个新特征与“REPEAT”之间的相关性"
   ]
  },
  {
   "cell_type": "code",
   "execution_count": 9,
   "id": "0cd41b00",
   "metadata": {},
   "outputs": [],
   "source": [
    "data_itemdf = itemdf[:] #复制切片"
   ]
  },
  {
   "cell_type": "code",
   "execution_count": 10,
   "id": "1e2af0ef",
   "metadata": {},
   "outputs": [],
   "source": [
    "data_itemdf=data_itemdf.drop(data_itemdf[data_itemdf['REPEAT']==0.0].index) #data_itemdf删除\"REPEAT\"为0的行"
   ]
  },
  {
   "cell_type": "code",
   "execution_count": 11,
   "id": "2b4edeea",
   "metadata": {},
   "outputs": [
    {
     "data": {
      "text/html": [
       "<div>\n",
       "<style scoped>\n",
       "    .dataframe tbody tr th:only-of-type {\n",
       "        vertical-align: middle;\n",
       "    }\n",
       "\n",
       "    .dataframe tbody tr th {\n",
       "        vertical-align: top;\n",
       "    }\n",
       "\n",
       "    .dataframe thead th {\n",
       "        text-align: right;\n",
       "    }\n",
       "</style>\n",
       "<table border=\"1\" class=\"dataframe\">\n",
       "  <thead>\n",
       "    <tr style=\"text-align: right;\">\n",
       "      <th></th>\n",
       "      <th>REPEAT</th>\n",
       "      <th>my_repeat</th>\n",
       "      <th>feature_plan</th>\n",
       "      <th>m_d_education</th>\n",
       "      <th>ST_grade</th>\n",
       "      <th>update_grade</th>\n",
       "    </tr>\n",
       "  </thead>\n",
       "  <tbody>\n",
       "    <tr>\n",
       "      <th>5</th>\n",
       "      <td>1.0</td>\n",
       "      <td>0</td>\n",
       "      <td>0</td>\n",
       "      <td>0</td>\n",
       "      <td>1</td>\n",
       "      <td>1</td>\n",
       "    </tr>\n",
       "    <tr>\n",
       "      <th>8</th>\n",
       "      <td>1.0</td>\n",
       "      <td>0</td>\n",
       "      <td>0</td>\n",
       "      <td>0</td>\n",
       "      <td>1</td>\n",
       "      <td>1</td>\n",
       "    </tr>\n",
       "    <tr>\n",
       "      <th>12</th>\n",
       "      <td>1.0</td>\n",
       "      <td>1</td>\n",
       "      <td>0</td>\n",
       "      <td>1</td>\n",
       "      <td>1</td>\n",
       "      <td>1</td>\n",
       "    </tr>\n",
       "    <tr>\n",
       "      <th>14</th>\n",
       "      <td>1.0</td>\n",
       "      <td>0</td>\n",
       "      <td>0</td>\n",
       "      <td>1</td>\n",
       "      <td>1</td>\n",
       "      <td>1</td>\n",
       "    </tr>\n",
       "    <tr>\n",
       "      <th>16</th>\n",
       "      <td>1.0</td>\n",
       "      <td>1</td>\n",
       "      <td>0</td>\n",
       "      <td>1</td>\n",
       "      <td>1</td>\n",
       "      <td>1</td>\n",
       "    </tr>\n",
       "  </tbody>\n",
       "</table>\n",
       "</div>"
      ],
      "text/plain": [
       "    REPEAT  my_repeat  feature_plan  m_d_education  ST_grade  update_grade\n",
       "5      1.0          0             0              0         1             1\n",
       "8      1.0          0             0              0         1             1\n",
       "12     1.0          1             0              1         1             1\n",
       "14     1.0          0             0              1         1             1\n",
       "16     1.0          1             0              1         1             1"
      ]
     },
     "execution_count": 11,
     "metadata": {},
     "output_type": "execute_result"
    }
   ],
   "source": [
    "data_itemdf.head()"
   ]
  },
  {
   "cell_type": "code",
   "execution_count": 12,
   "id": "3ffcc286",
   "metadata": {},
   "outputs": [],
   "source": [
    "def Apriori(data_itemdf,L,LN,dict_,support,Threshold) :\n",
    "#dict_表示对于所有频繁一项集所对应的值的字典，L记录所有的频繁项集，LN记录过程中被剔除的非频繁项集\n",
    "    for col in data_itemdf.columns :\n",
    "        if col == \"REPEAT\" or col ==\"CNTRYID\":\n",
    "            continue\n",
    "        df=data_itemdf[col].value_counts().reset_index()\n",
    "        num=[0,0]\n",
    "        num[df[col][0]]=df[\"count\"][0]/len(data_itemdf)\n",
    "        num[1-df[col][0]]=1-num[df[col][0]]\n",
    "        if num[1]>=Threshold :\n",
    "            L[0].append({col})\n",
    "            dict_[col]=1\n",
    "            support.append(num[1])\n",
    "        elif num[0]>=Threshold :\n",
    "            L[0].append({col})\n",
    "            dict_[col]=0\n",
    "            support.append(num[0])\n",
    "    #生成一频繁项集，得到对应的字典dict_\n",
    "    K=0\n",
    "    while True :\n",
    "        for i in range(len(L[K])) :\n",
    "            for j in range(len(L[K]))[i+1:] :\n",
    "                flag=0\n",
    "                temp=L[K][i].union(L[K][j])\n",
    "                if len(temp)==K+2 :\n",
    "                    for s in range(len(LN[K])) :\n",
    "                        if LN[K][s] in temp :\n",
    "                            flag=1\n",
    "                else :\n",
    "                    continue\n",
    "                if flag==0 :\n",
    "                    if temp in L[K+1] :\n",
    "                        continue\n",
    "                    num=0\n",
    "                    df=data_itemdf[list(temp)].value_counts().reset_index()\n",
    "                    for t in range(len(df)) :\n",
    "                        for col in df.columns :\n",
    "                            if col==\"count\" :\n",
    "                                num=df[\"count\"][t]/len(data_itemdf)\n",
    "                            else :\n",
    "                                if df[col][t]!=dict_[col] :\n",
    "                                    break\n",
    "                    if num>=Threshold :\n",
    "                        L[K+1].append(temp)\n",
    "                        support.append(num)\n",
    "                    else :\n",
    "                        LN[K+1].append(temp)\n",
    "        K+=1\n",
    "        if len(L[K])==0 or len(L[K])==1 :\n",
    "            break      \n",
    "        #生成K频繁项集，并将求得的支持度追加到support列表"
   ]
  },
  {
   "cell_type": "code",
   "execution_count": 13,
   "id": "652da321",
   "metadata": {},
   "outputs": [],
   "source": [
    "def get_con(L,LS,df_con,lift,PS,F_con,itemdf,support,sign,Threshold) :\n",
    "#计算置信度、lift、PS、和ψ-coefficient,根据置信度阙值剔除Apriori算法得到的一些项集\n",
    "    for i in range(len(L)) :\n",
    "        for j in range(len(L[i])) :\n",
    "            temp_list=list(L[i][j])\n",
    "            temp_list1=temp_list[:]\n",
    "            temp_list1.append(\"REPEAT\")\n",
    "            LS.append(temp_list1)\n",
    "            df=itemdf[temp_list1].value_counts().reset_index()\n",
    "            sum_down,sum_up=0,0\n",
    "            sum_down1=0\n",
    "            for s in range(len(df)) :\n",
    "                flag=1\n",
    "                if df[\"REPEAT\"][s]==1.0 :\n",
    "                    sum_down1+=df[\"count\"][s]\n",
    "                for col in df.columns :\n",
    "                    if (col in temp_list) and df[col][s]!=dict_[col] :\n",
    "                        flag=0\n",
    "                        break\n",
    "                if flag :\n",
    "                    sum_down+=df[\"count\"][s]\n",
    "                    if df[\"REPEAT\"][s]==1.0 :\n",
    "                        sum_up+=df[\"count\"][s]\n",
    "            df_con.append(sum_up/sum_down)\n",
    "            if sign :\n",
    "                lift.append(sum_up*len(itemdf)/(sum_down1*sum_down))\n",
    "                PS.append(sum_up/len(itemdf)-(sum_down1*sum_down)/len(itemdf)**2)\n",
    "                F_con.append((sum_up/len(itemdf)-(sum_down1*sum_down)/len(itemdf)**2)/math.sqrt((sum_down1/len(itemdf))*(sum_down/len(itemdf))*(1-sum_down/len(itemdf))*(1-sum_down1/len(itemdf))))\n",
    "    i=0\n",
    "    while(i<len(LS)) :\n",
    "        while i<len(LS) and df_con[i] < Threshold :\n",
    "            if sign :\n",
    "                del LS[i],df_con[i],lift[i],PS[i],F_con[i],support[i]\n",
    "            else :\n",
    "                del LS[i],df_con[i],support[i]\n",
    "        i+=1"
   ]
  },
  {
   "cell_type": "code",
   "execution_count": 14,
   "id": "362b0832",
   "metadata": {},
   "outputs": [],
   "source": [
    "L=[[],[],[],[],[]]\n",
    "LN=[[],[],[],[],[]]\n",
    "support=[]\n",
    "dict_={}\n",
    "LS=[]\n",
    "df_con=[]\n",
    "lift=[]\n",
    "PS=[]\n",
    "F_con=[]\n",
    "Apriori(data_itemdf,L,LN,dict_,support,0.6)\n",
    "get_con(L,LS,df_con,lift,PS,F_con,itemdf,support,1,0.15)"
   ]
  },
  {
   "cell_type": "code",
   "execution_count": 15,
   "id": "6c392e90",
   "metadata": {},
   "outputs": [
    {
     "data": {
      "text/plain": [
       "[['my_repeat', 'REPEAT'],\n",
       " ['feature_plan', 'REPEAT'],\n",
       " ['ST_grade', 'REPEAT'],\n",
       " ['update_grade', 'REPEAT'],\n",
       " ['ST_grade', 'my_repeat', 'REPEAT'],\n",
       " ['update_grade', 'my_repeat', 'REPEAT'],\n",
       " ['update_grade', 'ST_grade', 'REPEAT'],\n",
       " ['update_grade', 'ST_grade', 'my_repeat', 'REPEAT']]"
      ]
     },
     "execution_count": 15,
     "metadata": {},
     "output_type": "execute_result"
    }
   ],
   "source": [
    "LS #查看得到的频繁项集"
   ]
  },
  {
   "cell_type": "code",
   "execution_count": 22,
   "id": "67dc2f96",
   "metadata": {},
   "outputs": [
    {
     "data": {
      "text/plain": [
       "{'my_repeat': 1, 'feature_plan': 0, 'ST_grade': 1, 'update_grade': 1}"
      ]
     },
     "execution_count": 22,
     "metadata": {},
     "output_type": "execute_result"
    }
   ],
   "source": [
    "dict_ #查看项目对应的值"
   ]
  },
  {
   "cell_type": "markdown",
   "id": "0ede5879",
   "metadata": {},
   "source": [
    "- 在频繁项集中这些特征取值为均为如下所示\n",
    "|antecedents  |value   |\n",
    "|:----------|:----------|\n",
    "|'my_repeat' |1                 |\n",
    "|'feature_plan'|0              |\n",
    "|'ST_grade'|1           |\n",
    "|'update_grade|1                 |\n"
   ]
  },
  {
   "cell_type": "code",
   "execution_count": 17,
   "id": "75295104",
   "metadata": {},
   "outputs": [
    {
     "data": {
      "text/plain": [
       "[0.9718746412581794,\n",
       " 0.6259901274250947,\n",
       " 0.9310067730455746,\n",
       " 0.9310067730455746,\n",
       " 0.9129835839742854,\n",
       " 0.9129835839742854,\n",
       " 0.9310067730455746,\n",
       " 0.9129835839742854]"
      ]
     },
     "execution_count": 17,
     "metadata": {},
     "output_type": "execute_result"
    }
   ],
   "source": [
    "support #一一对应的支持度"
   ]
  },
  {
   "cell_type": "markdown",
   "id": "4e64979f",
   "metadata": {},
   "source": [
    "|antecedents  |consequentts                      |support    |\n",
    "|:----------|:----------                        |:---------- |\n",
    "|'my_repeat' |'REPEAT'=1|0.97187\n",
    "|'feature_plan'|'REPEAT'=1|0.62599\n",
    "|'ST_grade'|'REPEAT'=1|0.93101\n",
    "|'update_grade|'REPEAT'=1|0.93101\n",
    "|'update_grade', 'my_repeat'|'REPEAT'=1|0.91298\n",
    "|'update_grade', 'my_repeat'|'REPEAT'=1|0.91298\n",
    "|'update_grade', 'ST_grade'|'REPEAT'=1|0.93101\n",
    "|'update_grade', 'ST_grade', 'my_repeat'|'REPEAT'=1|0.91298"
   ]
  },
  {
   "cell_type": "code",
   "execution_count": 16,
   "id": "7ad38661",
   "metadata": {},
   "outputs": [
    {
     "data": {
      "text/plain": [
       "[0.9936619718309859,\n",
       " 0.15951440690361268,\n",
       " 0.8581102528832928,\n",
       " 0.8581102528832928,\n",
       " 0.998242751349316,\n",
       " 0.998242751349316,\n",
       " 0.8581102528832928,\n",
       " 0.998242751349316]"
      ]
     },
     "execution_count": 16,
     "metadata": {},
     "output_type": "execute_result"
    }
   ],
   "source": [
    "df_con #一一对应的置信度"
   ]
  },
  {
   "cell_type": "code",
   "execution_count": 18,
   "id": "d34f5a16",
   "metadata": {},
   "outputs": [
    {
     "data": {
      "text/plain": [
       "[4.811007613815137,\n",
       " 0.7723200121187888,\n",
       " 4.154707614005941,\n",
       " 4.154707614005941,\n",
       " 4.833186348399581,\n",
       " 4.833186348399581,\n",
       " 4.154707614005941,\n",
       " 4.833186348399581]"
      ]
     },
     "execution_count": 18,
     "metadata": {},
     "output_type": "execute_result"
    }
   ],
   "source": [
    "lift #一一对应的lift值"
   ]
  },
  {
   "cell_type": "code",
   "execution_count": 19,
   "id": "b278a393",
   "metadata": {},
   "outputs": [
    {
     "data": {
      "text/plain": [
       "[0.15900714791373557,\n",
       " -0.038115154141809965,\n",
       " 0.14600714661399386,\n",
       " 0.14600714661399386,\n",
       " 0.14955191775943313,\n",
       " 0.14955191775943313,\n",
       " 0.14600714661399386,\n",
       " 0.14955191775943313]"
      ]
     },
     "execution_count": 19,
     "metadata": {},
     "output_type": "execute_result"
    }
   ],
   "source": [
    "PS #一一对应的PS值"
   ]
  },
  {
   "cell_type": "code",
   "execution_count": 20,
   "id": "1107d2fb",
   "metadata": {},
   "outputs": [
    {
     "data": {
      "text/plain": [
       "[0.9782885184248976,\n",
       " -0.24025956067293414,\n",
       " 0.8649614661033822,\n",
       " 0.8649614661033822,\n",
       " 0.9437908097257651,\n",
       " 0.9437908097257651,\n",
       " 0.8649614661033822,\n",
       " 0.9437908097257651]"
      ]
     },
     "execution_count": 20,
     "metadata": {},
     "output_type": "execute_result"
    }
   ],
   "source": [
    "F_con #一一对应的ψ-coefficient值"
   ]
  },
  {
   "cell_type": "markdown",
   "id": "6c0809d8",
   "metadata": {},
   "source": [
    "|antecedents  |consequentts                      |confidence    |lift     |PS      |ψ-coefficient|\n",
    "|:----------|:----------                        |:----------   |:----------|:---------|:---------|\n",
    "|'my_repeat' |'REPEAT'=1| 0.99366|4.81101|0.15901|0.97829\n",
    "|'feature_plan' |'REPEAT'=1|0.15951|0.77232|-0.03811|-0.24026\n",
    "|'ST_grade'|'REPEAT'=1|0.85811|4.15470|0.14601|0.86496\n",
    "|'update_grade'|'REPEAT'=1|0.85811|4.15470|0.14601|0.86496\n",
    "|'ST_grade'，'my_repeat'\t|'REPEAT'=1|0.99824|4.83319|0.14955| 0.94379\n",
    "|'update_grade', 'my_repeat' |'REPEAT'=1|0.99824|4.83319|0.14955| 0.94379\n",
    "|'update_grade', 'ST_grade'|'REPEAT'=1|0.85811|4.15471|0.14601|0.86496\n",
    "|'update_grade', 'ST_grade', 'my_repeat'|'REPEAT'=1|0.99824|4.83319|0.14955| 0.94379"
   ]
  },
  {
   "cell_type": "code",
   "execution_count": 21,
   "id": "1f55d7a6",
   "metadata": {},
   "outputs": [
    {
     "name": "stdout",
     "output_type": "stream",
     "text": [
      "CNTRYID\n",
      "724.0    25955\n",
      "484.0     5831\n",
      "152.0     5676\n",
      "591.0     4609\n",
      "214.0      104\n",
      "188.0        1\n",
      "Name: count, dtype: int64\n"
     ]
    }
   ],
   "source": [
    "df=data[\"CNTRYID\"].value_counts()\n",
    "print(df) #查看关于\"CNTRYID\"的数据分布情况"
   ]
  },
  {
   "cell_type": "code",
   "execution_count": 23,
   "id": "750cca4d",
   "metadata": {},
   "outputs": [
    {
     "data": {
      "text/html": [
       "<div>\n",
       "<style scoped>\n",
       "    .dataframe tbody tr th:only-of-type {\n",
       "        vertical-align: middle;\n",
       "    }\n",
       "\n",
       "    .dataframe tbody tr th {\n",
       "        vertical-align: top;\n",
       "    }\n",
       "\n",
       "    .dataframe thead th {\n",
       "        text-align: right;\n",
       "    }\n",
       "</style>\n",
       "<table border=\"1\" class=\"dataframe\">\n",
       "  <thead>\n",
       "    <tr style=\"text-align: right;\">\n",
       "      <th></th>\n",
       "      <th>CNTRYID</th>\n",
       "      <th>REPEAT</th>\n",
       "      <th>my_repeat</th>\n",
       "      <th>feature_plan</th>\n",
       "      <th>m_d_education</th>\n",
       "      <th>ST_grade</th>\n",
       "      <th>update_grade</th>\n",
       "    </tr>\n",
       "  </thead>\n",
       "  <tbody>\n",
       "    <tr>\n",
       "      <th>0</th>\n",
       "      <td>152.0</td>\n",
       "      <td>0.0</td>\n",
       "      <td>0</td>\n",
       "      <td>0</td>\n",
       "      <td>0</td>\n",
       "      <td>0</td>\n",
       "      <td>0</td>\n",
       "    </tr>\n",
       "    <tr>\n",
       "      <th>1</th>\n",
       "      <td>152.0</td>\n",
       "      <td>0.0</td>\n",
       "      <td>0</td>\n",
       "      <td>0</td>\n",
       "      <td>0</td>\n",
       "      <td>0</td>\n",
       "      <td>0</td>\n",
       "    </tr>\n",
       "    <tr>\n",
       "      <th>2</th>\n",
       "      <td>152.0</td>\n",
       "      <td>0.0</td>\n",
       "      <td>0</td>\n",
       "      <td>0</td>\n",
       "      <td>0</td>\n",
       "      <td>0</td>\n",
       "      <td>0</td>\n",
       "    </tr>\n",
       "    <tr>\n",
       "      <th>3</th>\n",
       "      <td>152.0</td>\n",
       "      <td>0.0</td>\n",
       "      <td>0</td>\n",
       "      <td>0</td>\n",
       "      <td>0</td>\n",
       "      <td>0</td>\n",
       "      <td>0</td>\n",
       "    </tr>\n",
       "    <tr>\n",
       "      <th>4</th>\n",
       "      <td>152.0</td>\n",
       "      <td>0.0</td>\n",
       "      <td>0</td>\n",
       "      <td>0</td>\n",
       "      <td>0</td>\n",
       "      <td>0</td>\n",
       "      <td>0</td>\n",
       "    </tr>\n",
       "    <tr>\n",
       "      <th>...</th>\n",
       "      <td>...</td>\n",
       "      <td>...</td>\n",
       "      <td>...</td>\n",
       "      <td>...</td>\n",
       "      <td>...</td>\n",
       "      <td>...</td>\n",
       "      <td>...</td>\n",
       "    </tr>\n",
       "    <tr>\n",
       "      <th>42171</th>\n",
       "      <td>724.0</td>\n",
       "      <td>0.0</td>\n",
       "      <td>0</td>\n",
       "      <td>0</td>\n",
       "      <td>0</td>\n",
       "      <td>0</td>\n",
       "      <td>0</td>\n",
       "    </tr>\n",
       "    <tr>\n",
       "      <th>42172</th>\n",
       "      <td>724.0</td>\n",
       "      <td>1.0</td>\n",
       "      <td>1</td>\n",
       "      <td>0</td>\n",
       "      <td>1</td>\n",
       "      <td>1</td>\n",
       "      <td>1</td>\n",
       "    </tr>\n",
       "    <tr>\n",
       "      <th>42173</th>\n",
       "      <td>724.0</td>\n",
       "      <td>0.0</td>\n",
       "      <td>0</td>\n",
       "      <td>0</td>\n",
       "      <td>0</td>\n",
       "      <td>0</td>\n",
       "      <td>0</td>\n",
       "    </tr>\n",
       "    <tr>\n",
       "      <th>42174</th>\n",
       "      <td>724.0</td>\n",
       "      <td>1.0</td>\n",
       "      <td>1</td>\n",
       "      <td>0</td>\n",
       "      <td>1</td>\n",
       "      <td>1</td>\n",
       "      <td>1</td>\n",
       "    </tr>\n",
       "    <tr>\n",
       "      <th>42175</th>\n",
       "      <td>724.0</td>\n",
       "      <td>1.0</td>\n",
       "      <td>1</td>\n",
       "      <td>0</td>\n",
       "      <td>1</td>\n",
       "      <td>1</td>\n",
       "      <td>1</td>\n",
       "    </tr>\n",
       "  </tbody>\n",
       "</table>\n",
       "<p>42176 rows × 7 columns</p>\n",
       "</div>"
      ],
      "text/plain": [
       "       CNTRYID  REPEAT  my_repeat  feature_plan  m_d_education  ST_grade   \n",
       "0        152.0     0.0          0             0              0         0  \\\n",
       "1        152.0     0.0          0             0              0         0   \n",
       "2        152.0     0.0          0             0              0         0   \n",
       "3        152.0     0.0          0             0              0         0   \n",
       "4        152.0     0.0          0             0              0         0   \n",
       "...        ...     ...        ...           ...            ...       ...   \n",
       "42171    724.0     0.0          0             0              0         0   \n",
       "42172    724.0     1.0          1             0              1         1   \n",
       "42173    724.0     0.0          0             0              0         0   \n",
       "42174    724.0     1.0          1             0              1         1   \n",
       "42175    724.0     1.0          1             0              1         1   \n",
       "\n",
       "       update_grade  \n",
       "0                 0  \n",
       "1                 0  \n",
       "2                 0  \n",
       "3                 0  \n",
       "4                 0  \n",
       "...             ...  \n",
       "42171             0  \n",
       "42172             1  \n",
       "42173             0  \n",
       "42174             1  \n",
       "42175             1  \n",
       "\n",
       "[42176 rows x 7 columns]"
      ]
     },
     "execution_count": 23,
     "metadata": {},
     "output_type": "execute_result"
    }
   ],
   "source": [
    "CNTRYID_itemdf"
   ]
  },
  {
   "cell_type": "code",
   "execution_count": 24,
   "id": "2ba0fe13",
   "metadata": {},
   "outputs": [],
   "source": [
    "CNTRYID_itemdf_list=[]\n",
    "CNTRYID_itemdf_list.append(CNTRYID_itemdf.drop(CNTRYID_itemdf[CNTRYID_itemdf[\"CNTRYID\"]!=724].index))\n",
    "CNTRYID_itemdf_list.append(CNTRYID_itemdf.drop(CNTRYID_itemdf[CNTRYID_itemdf[\"CNTRYID\"]!=484].index))\n",
    "CNTRYID_itemdf_list.append(CNTRYID_itemdf.drop(CNTRYID_itemdf[CNTRYID_itemdf[\"CNTRYID\"]!=152].index))\n",
    "CNTRYID_itemdf_list.append(CNTRYID_itemdf.drop(CNTRYID_itemdf[CNTRYID_itemdf[\"CNTRYID\"]!=591].index))\n",
    "CNTRYID_itemdf_list.append(CNTRYID_itemdf.drop(CNTRYID_itemdf[CNTRYID_itemdf[\"CNTRYID\"]!=214].index))\n",
    "CNTRYID_itemdf_list.append(CNTRYID_itemdf.drop(CNTRYID_itemdf[CNTRYID_itemdf[\"CNTRYID\"]!=188].index))"
   ]
  },
  {
   "cell_type": "code",
   "execution_count": 25,
   "id": "47004934",
   "metadata": {},
   "outputs": [],
   "source": [
    "data_itemdf_list=[]\n",
    "for i in range(len(CNTRYID_itemdf_list)) :\n",
    "    data_itemdf_list.append(CNTRYID_itemdf_list[i].drop(CNTRYID_itemdf_list[i][CNTRYID_itemdf_list[i][\"REPEAT\"]==0].index))\n",
    "#删除\"REPEAT\"为0的行"
   ]
  },
  {
   "cell_type": "code",
   "execution_count": 29,
   "id": "7406c1ee",
   "metadata": {},
   "outputs": [
    {
     "name": "stdout",
     "output_type": "stream",
     "text": [
      "0\n",
      "[['my_repeat', 'REPEAT'], ['ST_grade', 'REPEAT'], ['update_grade', 'REPEAT'], ['ST_grade', 'my_repeat', 'REPEAT'], ['update_grade', 'my_repeat', 'REPEAT'], ['update_grade', 'ST_grade', 'REPEAT'], ['update_grade', 'ST_grade', 'my_repeat', 'REPEAT']]\n",
      "[1.0, 0.9589825119236884, 0.9589825119236884, 0.9589825119236884, 0.9589825119236884, 0.9589825119236884, 0.9589825119236884]\n",
      "1\n",
      "[['my_repeat', 'REPEAT'], ['ST_grade', 'REPEAT'], ['update_grade', 'REPEAT'], ['feature_plan', 'my_repeat', 'REPEAT'], ['my_repeat', 'm_d_education', 'REPEAT'], ['ST_grade', 'my_repeat', 'REPEAT'], ['update_grade', 'my_repeat', 'REPEAT'], ['ST_grade', 'feature_plan', 'REPEAT'], ['update_grade', 'feature_plan', 'REPEAT'], ['ST_grade', 'm_d_education', 'REPEAT'], ['update_grade', 'm_d_education', 'REPEAT'], ['update_grade', 'ST_grade', 'REPEAT'], ['feature_plan', 'my_repeat', 'm_d_education', 'REPEAT'], ['ST_grade', 'feature_plan', 'my_repeat', 'REPEAT'], ['update_grade', 'feature_plan', 'my_repeat', 'REPEAT'], ['ST_grade', 'my_repeat', 'm_d_education', 'REPEAT'], ['update_grade', 'my_repeat', 'm_d_education', 'REPEAT'], ['update_grade', 'ST_grade', 'my_repeat', 'REPEAT'], ['ST_grade', 'feature_plan', 'm_d_education', 'REPEAT'], ['update_grade', 'feature_plan', 'm_d_education', 'REPEAT'], ['update_grade', 'ST_grade', 'feature_plan', 'REPEAT'], ['update_grade', 'ST_grade', 'm_d_education', 'REPEAT'], ['feature_plan', 'my_repeat', 'ST_grade', 'm_d_education', 'REPEAT'], ['update_grade', 'feature_plan', 'my_repeat', 'm_d_education', 'REPEAT'], ['update_grade', 'feature_plan', 'my_repeat', 'ST_grade', 'REPEAT'], ['update_grade', 'my_repeat', 'ST_grade', 'm_d_education', 'REPEAT'], ['update_grade', 'feature_plan', 'ST_grade', 'm_d_education', 'REPEAT'], ['my_repeat', 'm_d_education', 'update_grade', 'feature_plan', 'ST_grade', 'REPEAT']]\n",
      "[0.9296875, 0.880859375, 0.880859375, 0.9296875, 0.658203125, 0.880859375, 0.880859375, 0.880859375, 0.880859375, 0.62890625, 0.62890625, 0.880859375, 0.658203125, 0.880859375, 0.880859375, 0.62890625, 0.62890625, 0.880859375, 0.62890625, 0.62890625, 0.880859375, 0.62890625, 0.62890625, 0.62890625, 0.880859375, 0.62890625, 0.62890625, 0.62890625]\n",
      "2\n",
      "[['my_repeat', 'REPEAT'], ['feature_plan', 'REPEAT'], ['ST_grade', 'REPEAT'], ['update_grade', 'REPEAT'], ['feature_plan', 'my_repeat', 'REPEAT'], ['ST_grade', 'my_repeat', 'REPEAT'], ['update_grade', 'my_repeat', 'REPEAT'], ['ST_grade', 'feature_plan', 'REPEAT'], ['update_grade', 'feature_plan', 'REPEAT'], ['update_grade', 'ST_grade', 'REPEAT'], ['ST_grade', 'feature_plan', 'my_repeat', 'REPEAT'], ['update_grade', 'feature_plan', 'my_repeat', 'REPEAT'], ['update_grade', 'ST_grade', 'my_repeat', 'REPEAT'], ['update_grade', 'ST_grade', 'feature_plan', 'REPEAT'], ['update_grade', 'feature_plan', 'my_repeat', 'ST_grade', 'REPEAT']]\n",
      "[0.7929125138427464, 1.0, 0.867109634551495, 0.867109634551495, 0.7929125138427464, 0.6932447397563677, 0.6932447397563677, 0.867109634551495, 0.867109634551495, 0.867109634551495, 0.6932447397563677, 0.6932447397563677, 0.6932447397563677, 0.867109634551495, 0.6932447397563677]\n",
      "3\n",
      "[['my_repeat', 'REPEAT'], ['feature_plan', 'REPEAT'], ['m_d_education', 'REPEAT'], ['ST_grade', 'REPEAT'], ['update_grade', 'REPEAT'], ['feature_plan', 'my_repeat', 'REPEAT'], ['my_repeat', 'm_d_education', 'REPEAT'], ['ST_grade', 'my_repeat', 'REPEAT'], ['update_grade', 'my_repeat', 'REPEAT'], ['ST_grade', 'm_d_education', 'REPEAT'], ['update_grade', 'm_d_education', 'REPEAT'], ['update_grade', 'ST_grade', 'REPEAT'], ['ST_grade', 'my_repeat', 'm_d_education', 'REPEAT'], ['update_grade', 'my_repeat', 'm_d_education', 'REPEAT'], ['update_grade', 'ST_grade', 'my_repeat', 'REPEAT'], ['update_grade', 'ST_grade', 'm_d_education', 'REPEAT'], ['update_grade', 'my_repeat', 'ST_grade', 'm_d_education', 'REPEAT']]\n",
      "[0.9799599198396793, 0.6603206412825652, 0.6803607214428857, 0.843687374749499, 0.843687374749499, 0.6482965931863728, 0.6683366733466933, 0.843687374749499, 0.843687374749499, 0.6022044088176353, 0.6022044088176353, 0.843687374749499, 0.6022044088176353, 0.6022044088176353, 0.843687374749499, 0.6022044088176353, 0.6022044088176353]\n",
      "4\n",
      "[['my_repeat', 'REPEAT'], ['feature_plan', 'my_repeat', 'REPEAT'], ['my_repeat', 'm_d_education', 'REPEAT'], ['feature_plan', 'my_repeat', 'm_d_education', 'REPEAT']]\n",
      "[0.75, 0.75, 0.625, 0.625]\n"
     ]
    }
   ],
   "source": [
    "#由于6个对应的CNTRYID其中有一个只有1行数据，故可以不给予考虑\n",
    "for i in range(5) :\n",
    "    print(i)\n",
    "    L=[[],[],[],[],[]]\n",
    "    LN=[[],[],[],[],[]]\n",
    "    support=[]\n",
    "    dict_={}\n",
    "    LS=[]\n",
    "    df_con=[]\n",
    "    lift=[]\n",
    "    PS=[]\n",
    "    F_con=[]\n",
    "    Apriori(data_itemdf_list[i],L,LN,dict_,support,0.6)\n",
    "    get_con(L,LS,df_con,lift,PS,F_con,CNTRYID_itemdf_list[i],support,0,0.15)\n",
    "    print(LS)\n",
    "    print(support)\n",
    "    #对每个CNTRYID打印出生成的得到的频繁项集和对应的支持度\n",
    "    #可以明显发现对于不同CNTRYID得到的关联规则与频繁项集也不相同，具有较大差异"
   ]
  },
  {
   "cell_type": "code",
   "execution_count": null,
   "id": "37c66d2b",
   "metadata": {},
   "outputs": [],
   "source": []
  }
 ],
 "metadata": {
  "kernelspec": {
   "display_name": "Python 3 (ipykernel)",
   "language": "python",
   "name": "python3"
  },
  "language_info": {
   "codemirror_mode": {
    "name": "ipython",
    "version": 3
   },
   "file_extension": ".py",
   "mimetype": "text/x-python",
   "name": "python",
   "nbconvert_exporter": "python",
   "pygments_lexer": "ipython3",
   "version": "3.9.7"
  }
 },
 "nbformat": 4,
 "nbformat_minor": 5
}
