{
 "cells": [
  {
   "cell_type": "code",
   "execution_count": 1,
   "id": "2398e4e4",
   "metadata": {},
   "outputs": [],
   "source": [
    "import numpy as np\n",
    "import pandas as pd\n",
    "import seaborn as sns\n",
    "import math\n",
    "import re\n",
    "import plotly.express as px\n",
    "from plotly.subplots import make_subplots\n",
    "import plotly.graph_objs as go\n",
    "from sklearn.model_selection import train_test_split\n",
    "from sklearn.preprocessing import StandardScaler\n",
    "from sklearn.neural_network import MLPClassifier\n",
    "from sklearn.model_selection import KFold\n",
    "from sklearn.model_selection import KFold,StratifiedKFold\n",
    "from sklearn.metrics import accuracy_score\n",
    "from sklearn.neural_network import MLPClassifier\n",
    "from sklearn.neighbors import KNeighborsClassifier\n",
    "from imblearn.over_sampling import RandomOverSampler\n",
    "from imblearn.over_sampling import SMOTE,ADASYN\n",
    "from collections import Counter \n",
    "from sklearn.metrics import f1_score \n",
    "from imblearn.under_sampling import ClusterCentroids"
   ]
  },
  {
   "cell_type": "code",
   "execution_count": 2,
   "id": "c1b21ae2",
   "metadata": {},
   "outputs": [],
   "source": [
    "path = \"lab3-data.csv\"\n",
    "data = pd.read_csv(path,encoding = \"utf-8\",low_memory=False)"
   ]
  },
  {
   "cell_type": "markdown",
   "id": "b92fc772",
   "metadata": {},
   "source": [
    "## KNN模型预测"
   ]
  },
  {
   "cell_type": "markdown",
   "id": "6b98396b",
   "metadata": {},
   "source": [
    "- 基于过采样的KNN"
   ]
  },
  {
   "cell_type": "code",
   "execution_count": 5,
   "id": "6ec00f6a",
   "metadata": {},
   "outputs": [],
   "source": [
    "def KNN_1(chosen_list) :\n",
    "    #chosen_list是自变量特征\n",
    "    chosen_list.append(\"REPEAT\")\n",
    "    df=data[chosen_list]   #取出所对应的列\n",
    "    df=df.fillna(method='ffill')   \n",
    "    df=df.fillna(method='bfill')   #数据预处理采用前后值填充方法\n",
    "    kf = StratifiedKFold(n_splits = 5,random_state=2023,shuffle=True)    #分层kfold\n",
    "    scaler = StandardScaler() #数据标准化\n",
    "    X=np.array(df[chosen_list[:-1]]) #X为自变量特征\n",
    "    y=np.array(df[\"REPEAT\"])   #y是因变量特征（需要预测的特征）\n",
    "    oversample = RandomOverSampler(sampling_strategy=1)   #过采样\n",
    "    f1_score_aver=0.0\n",
    "    acc_aver=0.0\n",
    "    acc_aver=0.0\n",
    "    for train,valid in kf.split(X,y) :\n",
    "        #split(X,y)将训练集取4份，预测集取1份，train,vaild返回索引两者索引，轮换取\n",
    "        X_train=np.array(X)[train]   #X_train是训练集自变量特征对应的数据\n",
    "        y_train=np.array(y)[train]   #y_train是训练集因变量特征对应的数据\n",
    "        X_test =np.array(X)[valid]   #X_test是预测集自变量特征对应的数据\n",
    "        y_test=np.array(y)[valid]    #y_test是预测集因变量特征对应的数据\n",
    "        scaler.fit(X_train)   \n",
    "        X_train = scaler.transform(X_train)\n",
    "        X_test = scaler.transform(X_test)\n",
    "        #根据X_train将X_test与X_train归一化处理，可以收敛更快\n",
    "        X_train_over, y_train_over = oversample.fit_resample(X_train, y_train)   #由于数据集分布不均匀，所以采用过采样方式\n",
    "        clf = KNeighborsClassifier(n_neighbors=2)   \n",
    "        clf.fit(X_train_over, np.array(y_train_over).ravel())  #利用过采样后的训练集训练KNN分类器\n",
    "        y_pred = clf.predict(X_test)   #将预测集的自变量特征对应的数据X_test输入分类器预测方法得到y_pred预测\n",
    "        print('Accuracy: %.2f' % accuracy_score(y_test, y_pred))   #acc\n",
    "        print('F1-score: %.2f' % f1_score(y_test, y_pred))   #f1_score\n",
    "        f1_score_aver+=f1_score(y_test, y_pred)\n",
    "        acc_aver+=accuracy_score(y_test, y_pred)\n",
    "    return [acc_aver/5,f1_score_aver/5]"
   ]
  },
  {
   "cell_type": "code",
   "execution_count": 6,
   "id": "67b89b48",
   "metadata": {},
   "outputs": [
    {
     "name": "stdout",
     "output_type": "stream",
     "text": [
      "Accuracy: 0.73\n",
      "F1-score: 0.29\n",
      "Accuracy: 0.73\n",
      "F1-score: 0.29\n",
      "Accuracy: 0.72\n",
      "F1-score: 0.30\n",
      "Accuracy: 0.72\n",
      "F1-score: 0.28\n",
      "Accuracy: 0.73\n",
      "F1-score: 0.29\n"
     ]
    },
    {
     "data": {
      "text/plain": [
       "[0.7277359963776212, 0.2910235469527633]"
      ]
     },
     "execution_count": 6,
     "metadata": {},
     "output_type": "execute_result"
    }
   ],
   "source": [
    "KNN_1(['OCOD1','OCOD2','OCOD3'])"
   ]
  },
  {
   "cell_type": "code",
   "execution_count": 14,
   "id": "3cf04618",
   "metadata": {},
   "outputs": [
    {
     "name": "stdout",
     "output_type": "stream",
     "text": [
      "Accuracy: 0.78\n",
      "F1-score: 0.08\n",
      "Accuracy: 0.76\n",
      "F1-score: 0.23\n",
      "Accuracy: 0.78\n",
      "F1-score: 0.08\n",
      "Accuracy: 0.77\n",
      "F1-score: 0.14\n",
      "Accuracy: 0.78\n",
      "F1-score: 0.06\n"
     ]
    },
    {
     "data": {
      "text/plain": [
       "[0.7738285632214438, 0.11924081330067393]"
      ]
     },
     "execution_count": 14,
     "metadata": {},
     "output_type": "execute_result"
    }
   ],
   "source": [
    "KNN_1(['COBN_S' ,'COBN_M' ,'COBN_F'])"
   ]
  },
  {
   "cell_type": "code",
   "execution_count": 7,
   "id": "5624cd46",
   "metadata": {},
   "outputs": [
    {
     "name": "stdout",
     "output_type": "stream",
     "text": [
      "Accuracy: 0.80\n",
      "F1-score: 0.09\n",
      "Accuracy: 0.80\n",
      "F1-score: 0.08\n",
      "Accuracy: 0.80\n",
      "F1-score: 0.16\n",
      "Accuracy: 0.81\n",
      "F1-score: 0.24\n",
      "Accuracy: 0.80\n",
      "F1-score: 0.13\n"
     ]
    },
    {
     "data": {
      "text/plain": [
       "[0.8047705615951957, 0.14096430600613263]"
      ]
     },
     "execution_count": 7,
     "metadata": {},
     "output_type": "execute_result"
    }
   ],
   "source": [
    "KNN_1([\"PROGN\"])"
   ]
  },
  {
   "cell_type": "code",
   "execution_count": 8,
   "id": "995eac00",
   "metadata": {},
   "outputs": [
    {
     "name": "stdout",
     "output_type": "stream",
     "text": [
      "Accuracy: 0.79\n",
      "F1-score: 0.03\n",
      "Accuracy: 0.79\n",
      "F1-score: 0.03\n",
      "Accuracy: 0.79\n",
      "F1-score: 0.04\n",
      "Accuracy: 0.79\n",
      "F1-score: 0.03\n",
      "Accuracy: 0.79\n",
      "F1-score: 0.05\n"
     ]
    },
    {
     "data": {
      "text/plain": [
       "[0.7896671026000572, 0.034546071826525485]"
      ]
     },
     "execution_count": 8,
     "metadata": {},
     "output_type": "execute_result"
    }
   ],
   "source": [
    "KNN_1(['ST023Q01TA','ST023Q02TA','ST023Q03TA','ST023Q04TA','ST023Q05TA'])"
   ]
  },
  {
   "cell_type": "code",
   "execution_count": 9,
   "id": "60a47c43",
   "metadata": {},
   "outputs": [
    {
     "name": "stdout",
     "output_type": "stream",
     "text": [
      "Accuracy: 0.79\n",
      "F1-score: 0.00\n",
      "Accuracy: 0.79\n",
      "F1-score: 0.00\n",
      "Accuracy: 0.79\n",
      "F1-score: 0.00\n",
      "Accuracy: 0.78\n",
      "F1-score: 0.26\n",
      "Accuracy: 0.79\n",
      "F1-score: 0.00\n"
     ]
    },
    {
     "data": {
      "text/plain": [
       "[0.7900701034856963, 0.05151634501772352]"
      ]
     },
     "execution_count": 9,
     "metadata": {},
     "output_type": "execute_result"
    }
   ],
   "source": [
    "KNN_1(['SCCHANGE'])"
   ]
  },
  {
   "cell_type": "code",
   "execution_count": 10,
   "id": "28e68e99",
   "metadata": {},
   "outputs": [
    {
     "name": "stdout",
     "output_type": "stream",
     "text": [
      "Accuracy: 0.72\n",
      "F1-score: 0.23\n",
      "Accuracy: 0.73\n",
      "F1-score: 0.26\n",
      "Accuracy: 0.72\n",
      "F1-score: 0.25\n",
      "Accuracy: 0.73\n",
      "F1-score: 0.27\n",
      "Accuracy: 0.73\n",
      "F1-score: 0.25\n"
     ]
    },
    {
     "data": {
      "text/plain": [
       "[0.7259817453243966, 0.25320543716561617]"
      ]
     },
     "execution_count": 10,
     "metadata": {},
     "output_type": "execute_result"
    }
   ],
   "source": [
    "KNN_1(['MISCED','FISCED','HISCED','PARED','MISCED_D','FISCED_D','HISCED_D','PAREDINT','BMMJ1','BFMJ2','HISEI'])"
   ]
  },
  {
   "cell_type": "code",
   "execution_count": 11,
   "id": "afc7ada3",
   "metadata": {},
   "outputs": [
    {
     "name": "stdout",
     "output_type": "stream",
     "text": [
      "Accuracy: 0.50\n",
      "F1-score: 0.42\n",
      "Accuracy: 0.50\n",
      "F1-score: 0.42\n",
      "Accuracy: 0.49\n",
      "F1-score: 0.42\n",
      "Accuracy: 0.50\n",
      "F1-score: 0.42\n",
      "Accuracy: 0.51\n",
      "F1-score: 0.43\n"
     ]
    },
    {
     "data": {
      "text/plain": [
       "[0.49670430421686157, 0.4206823529107238]"
      ]
     },
     "execution_count": 11,
     "metadata": {},
     "output_type": "execute_result"
    }
   ],
   "source": [
    "KNN_1(['ISCEDL'])"
   ]
  },
  {
   "cell_type": "code",
   "execution_count": 12,
   "id": "b646868d",
   "metadata": {},
   "outputs": [
    {
     "name": "stdout",
     "output_type": "stream",
     "text": [
      "Accuracy: 0.74\n",
      "F1-score: 0.33\n",
      "Accuracy: 0.74\n",
      "F1-score: 0.33\n",
      "Accuracy: 0.74\n",
      "F1-score: 0.33\n",
      "Accuracy: 0.74\n",
      "F1-score: 0.32\n",
      "Accuracy: 0.73\n",
      "F1-score: 0.30\n"
     ]
    },
    {
     "data": {
      "text/plain": [
       "[0.7382633268154125, 0.32363892640822306]"
      ]
     },
     "execution_count": 12,
     "metadata": {},
     "output_type": "execute_result"
    }
   ],
   "source": [
    "KNN_1(['OCOD1','OCOD2','OCOD3','PROGN'])"
   ]
  },
  {
   "cell_type": "code",
   "execution_count": 13,
   "id": "97672e85",
   "metadata": {},
   "outputs": [
    {
     "name": "stdout",
     "output_type": "stream",
     "text": [
      "Accuracy: 0.79\n",
      "F1-score: 0.20\n",
      "Accuracy: 0.77\n",
      "F1-score: 0.29\n",
      "Accuracy: 0.79\n",
      "F1-score: 0.15\n",
      "Accuracy: 0.79\n",
      "F1-score: 0.27\n",
      "Accuracy: 0.81\n",
      "F1-score: 0.29\n"
     ]
    },
    {
     "data": {
      "text/plain": [
       "[0.7917772675492701, 0.23924439960452007]"
      ]
     },
     "execution_count": 13,
     "metadata": {},
     "output_type": "execute_result"
    }
   ],
   "source": [
    "KNN_1(['COBN_S' ,'COBN_M' ,'COBN_F','PROGN'])"
   ]
  },
  {
   "cell_type": "code",
   "execution_count": 15,
   "id": "65e1ce7f",
   "metadata": {},
   "outputs": [
    {
     "name": "stdout",
     "output_type": "stream",
     "text": [
      "Accuracy: 0.74\n",
      "F1-score: 0.35\n",
      "Accuracy: 0.74\n",
      "F1-score: 0.34\n",
      "Accuracy: 0.74\n",
      "F1-score: 0.35\n",
      "Accuracy: 0.74\n",
      "F1-score: 0.34\n",
      "Accuracy: 0.74\n",
      "F1-score: 0.34\n"
     ]
    },
    {
     "data": {
      "text/plain": [
       "[0.7407767090710966, 0.34260413905649445]"
      ]
     },
     "execution_count": 15,
     "metadata": {},
     "output_type": "execute_result"
    }
   ],
   "source": [
    "KNN_1(['COBN_S' ,'COBN_M' ,'COBN_F','PROGN','OCOD1','OCOD2','OCOD3'])"
   ]
  },
  {
   "cell_type": "code",
   "execution_count": 16,
   "id": "b73c99aa",
   "metadata": {},
   "outputs": [
    {
     "name": "stdout",
     "output_type": "stream",
     "text": [
      "Accuracy: 0.79\n",
      "F1-score: 0.00\n",
      "Accuracy: 0.79\n",
      "F1-score: 0.00\n",
      "Accuracy: 0.79\n",
      "F1-score: 0.00\n",
      "Accuracy: 0.79\n",
      "F1-score: 0.00\n",
      "Accuracy: 0.79\n",
      "F1-score: 0.00\n"
     ]
    },
    {
     "data": {
      "text/plain": [
       "[0.7934607377476999, 0.0]"
      ]
     },
     "execution_count": 16,
     "metadata": {},
     "output_type": "execute_result"
    }
   ],
   "source": [
    "KNN_1(['SCCHANGE'])"
   ]
  },
  {
   "cell_type": "code",
   "execution_count": 18,
   "id": "a8529cb9",
   "metadata": {},
   "outputs": [
    {
     "name": "stdout",
     "output_type": "stream",
     "text": [
      "Accuracy: 0.77\n",
      "F1-score: 0.41\n",
      "Accuracy: 0.76\n",
      "F1-score: 0.41\n",
      "Accuracy: 0.77\n",
      "F1-score: 0.42\n",
      "Accuracy: 0.77\n",
      "F1-score: 0.42\n",
      "Accuracy: 0.77\n",
      "F1-score: 0.41\n"
     ]
    },
    {
     "data": {
      "text/plain": [
       "[0.7663362819969065, 0.4124269984193346]"
      ]
     },
     "execution_count": 18,
     "metadata": {},
     "output_type": "execute_result"
    }
   ],
   "source": [
    "KNN_1(['PROGN','COBN_S' ,'COBN_M' ,'COBN_F','OCOD1','OCOD2','OCOD3','ISCEDL'])"
   ]
  },
  {
   "cell_type": "code",
   "execution_count": 35,
   "id": "e8f6faee",
   "metadata": {},
   "outputs": [
    {
     "name": "stdout",
     "output_type": "stream",
     "text": [
      "Accuracy: 0.80\n",
      "F1-score: 0.47\n",
      "Accuracy: 0.80\n",
      "F1-score: 0.49\n",
      "Accuracy: 0.80\n",
      "F1-score: 0.47\n",
      "Accuracy: 0.80\n",
      "F1-score: 0.48\n",
      "Accuracy: 0.80\n",
      "F1-score: 0.47\n"
     ]
    },
    {
     "data": {
      "text/plain": [
       "[0.7982502291390695, 0.4748646617150533]"
      ]
     },
     "execution_count": 35,
     "metadata": {},
     "output_type": "execute_result"
    }
   ],
   "source": [
    "KNN_1(['ST005Q01TA',\n",
    " 'ST007Q01TA',\n",
    " 'ST011D18TA',\n",
    " 'ST011D19TA',\n",
    " 'ST013Q01TA',\n",
    " 'IC150Q06HA',\n",
    " 'IC150Q09HA',\n",
    " 'IC151Q06HA',\n",
    " 'IC151Q08HA',\n",
    " 'IC151Q09HA',\n",
    " 'IC152Q06HA',\n",
    " 'IC152Q08HA',\n",
    " 'IC152Q09HA',\n",
    " 'EC150Q06WA',\n",
    " 'EC151Q03WA',\n",
    " 'EC152Q01HA',\n",
    " 'EC153Q02HA',\n",
    " 'EC159Q01HA',\n",
    " 'FL164Q01HA',\n",
    " 'OCOD1',\n",
    " 'OCOD2',\n",
    " 'OCOD3',\n",
    " 'PROGN',\n",
    " 'ISCEDL',\n",
    " 'BMMJ1',\n",
    " 'BFMJ2',\n",
    " 'HISEI',\n",
    " 'BSMJ',\n",
    " 'CHANGE',\n",
    " 'ESCS',\n",
    " 'HOMEPOS',\n",
    " 'INFOCAR'])"
   ]
  },
  {
   "cell_type": "markdown",
   "id": "f02f1890",
   "metadata": {},
   "source": [
    "- 基于SMOTE采样的KNN"
   ]
  },
  {
   "cell_type": "code",
   "execution_count": 28,
   "id": "b6f5a775",
   "metadata": {},
   "outputs": [],
   "source": [
    "def KNN_2(chosen_list) :\n",
    "    #chosen_list是自变量特征\n",
    "    chosen_list.append(\"REPEAT\")\n",
    "    df=data[chosen_list]   #取出所对应的列\n",
    "    df=df.fillna(method='ffill')   \n",
    "    df=df.fillna(method='bfill')   #数据预处理采用前后值填充方法\n",
    "    kf = StratifiedKFold(n_splits = 5,random_state=2023,shuffle=True)    #分层kfold\n",
    "    scaler = StandardScaler() #数据标准化\n",
    "    X=np.array(df[chosen_list[:-1]]) #X为自变量特征\n",
    "    y=np.array(df[\"REPEAT\"])   #y是因变量特征（需要预测的特征）\n",
    "    smo=SMOTE(sampling_strategy=1,random_state=42) #SMOTE采样\n",
    "    f1_score_aver=0.0\n",
    "    acc_aver=0.0\n",
    "    for train,valid in kf.split(X,y) :\n",
    "        #split(X,y)将训练集取4份，预测集取1份，train,vaild返回索引两者索引，轮换取\n",
    "        X_train=np.array(X)[train]   #X_train是训练集自变量特征对应的数据\n",
    "        y_train=np.array(y)[train]   #y_train是训练集因变量特征对应的数据\n",
    "        X_test =np.array(X)[valid]   #X_test是预测集自变量特征对应的数据\n",
    "        y_test=np.array(y)[valid]    #y_test是预测集因变量特征对应的数据\n",
    "        scaler.fit(X_train)   \n",
    "        X_train = scaler.transform(X_train)\n",
    "        X_test = scaler.transform(X_test)\n",
    "        #根据X_train将X_test与X_train归一化处理，可以收敛更快\n",
    "        X_resampled_smote,y_ressampled_smote=smo.fit_resample(X_train,y_train)\n",
    "        clf = KNeighborsClassifier(n_neighbors=2)   \n",
    "        clf.fit(X_resampled_smote, np.array(y_ressampled_smote).ravel())  #利用过采样后的训练集训练KNN分类器\n",
    "        y_pred = clf.predict(X_test)   #将预测集的自变量特征对应的数据X_test输入分类器预测方法得到y_pred预测\n",
    "        print('Accuracy: %.2f' % accuracy_score(y_test, y_pred))   #acc\n",
    "        print('F1-score: %.2f' % f1_score(y_test, y_pred))   #f1_score\n",
    "        acc_aver+=accuracy_score(y_test, y_pred)\n",
    "        f1_score_aver+=f1_score(y_test, y_pred)\n",
    "    return [acc_aver/5,f1_score_aver/5]"
   ]
  },
  {
   "cell_type": "code",
   "execution_count": 34,
   "id": "bb8c1b71",
   "metadata": {},
   "outputs": [
    {
     "name": "stdout",
     "output_type": "stream",
     "text": [
      "Accuracy: 0.79\n",
      "F1-score: 0.51\n",
      "Accuracy: 0.79\n",
      "F1-score: 0.52\n",
      "Accuracy: 0.79\n",
      "F1-score: 0.51\n",
      "Accuracy: 0.79\n",
      "F1-score: 0.51\n",
      "Accuracy: 0.79\n",
      "F1-score: 0.50\n"
     ]
    },
    {
     "data": {
      "text/plain": [
       "[0.7924886147183592, 0.5102747270699347]"
      ]
     },
     "execution_count": 34,
     "metadata": {},
     "output_type": "execute_result"
    }
   ],
   "source": [
    "KNN_2(['ST005Q01TA',\n",
    " 'ST007Q01TA',\n",
    " 'ST011D18TA',\n",
    " 'ST011D19TA',\n",
    " 'ST013Q01TA',\n",
    " 'IC150Q06HA',\n",
    " 'IC150Q09HA',\n",
    " 'IC151Q06HA',\n",
    " 'IC151Q08HA',\n",
    " 'IC151Q09HA',\n",
    " 'IC152Q06HA',\n",
    " 'IC152Q08HA',\n",
    " 'IC152Q09HA',\n",
    " 'EC150Q06WA',\n",
    " 'EC151Q03WA',\n",
    " 'EC152Q01HA',\n",
    " 'EC153Q02HA',\n",
    " 'EC159Q01HA',\n",
    " 'FL164Q01HA',\n",
    " 'OCOD1',\n",
    " 'OCOD2',\n",
    " 'OCOD3',\n",
    " 'PROGN',\n",
    " 'ISCEDL',\n",
    " 'BMMJ1',\n",
    " 'BFMJ2',\n",
    " 'HISEI',\n",
    " 'BSMJ',\n",
    " 'CHANGE',\n",
    " 'ESCS',\n",
    " 'HOMEPOS',\n",
    " 'INFOCAR'])"
   ]
  },
  {
   "cell_type": "markdown",
   "id": "23c5d7cb",
   "metadata": {},
   "source": [
    "- 基于ADASYN采样的KNN"
   ]
  },
  {
   "cell_type": "code",
   "execution_count": 31,
   "id": "10525df1",
   "metadata": {},
   "outputs": [],
   "source": [
    "def KNN_3(chosen_list) :\n",
    "    #chosen_list是自变量特征\n",
    "    chosen_list.append(\"REPEAT\")\n",
    "    df=data[chosen_list]   #取出所对应的列\n",
    "    df=df.fillna(method='ffill')   \n",
    "    df=df.fillna(method='bfill')   #数据预处理采用前后值填充方法\n",
    "    kf = StratifiedKFold(n_splits = 5,random_state=2023,shuffle=True)    #分层kfold\n",
    "    scaler = StandardScaler() #数据标准化\n",
    "    X=np.array(df[chosen_list[:-1]]) #X为自变量特征\n",
    "    y=np.array(df[\"REPEAT\"])   #y是因变量特征（需要预测的特征）\n",
    "    ada=ADASYN(sampling_strategy=1)\n",
    "    f1_score_aver=0.0\n",
    "    acc_aver=0.0\n",
    "    for train,valid in kf.split(X,y) :\n",
    "        #split(X,y)将训练集取4份，预测集取1份，train,vaild返回索引两者索引，轮换取\n",
    "        X_train=np.array(X)[train]   #X_train是训练集自变量特征对应的数据\n",
    "        y_train=np.array(y)[train]   #y_train是训练集因变量特征对应的数据\n",
    "        X_test =np.array(X)[valid]   #X_test是预测集自变量特征对应的数据\n",
    "        y_test=np.array(y)[valid]    #y_test是预测集因变量特征对应的数据\n",
    "        scaler.fit(X_train)   \n",
    "        X_train = scaler.transform(X_train)\n",
    "        X_test = scaler.transform(X_test)\n",
    "        #根据X_train将X_test与X_train归一化处理，可以收敛更快\n",
    "        #X_train_over, y_train_over = oversample.fit_resample(X_train, y_train)   #由于数据集分布不均匀，所以采用过采样方式\n",
    "        X_resampled_ada,y_ressampled_ada=ada.fit_resample(X_train,y_train)\n",
    "        clf = KNeighborsClassifier(n_neighbors=2)   \n",
    "        clf.fit(X_resampled_ada, np.array(y_ressampled_ada).ravel())  #利用过采样后的训练集训练KNN分类器\n",
    "        y_pred = clf.predict(X_test)   #将预测集的自变量特征对应的数据X_test输入分类器预测方法得到y_pred预测\n",
    "        print('Accuracy: %.2f' % accuracy_score(y_test, y_pred))   #acc\n",
    "        print('F1-score: %.2f' % f1_score(y_test, y_pred))   #f1_score\n",
    "        acc_aver+=accuracy_score(y_test, y_pred)\n",
    "        f1_score_aver+=f1_score(y_test, y_pred)\n",
    "    return [acc_aver/5,f1_score_aver/5] "
   ]
  },
  {
   "cell_type": "code",
   "execution_count": 32,
   "id": "b185a69e",
   "metadata": {},
   "outputs": [
    {
     "name": "stdout",
     "output_type": "stream",
     "text": [
      "Accuracy: 0.77\n",
      "F1-score: 0.40\n",
      "Accuracy: 0.76\n",
      "F1-score: 0.40\n",
      "Accuracy: 0.77\n",
      "F1-score: 0.41\n",
      "Accuracy: 0.77\n",
      "F1-score: 0.42\n",
      "Accuracy: 0.77\n",
      "F1-score: 0.40\n"
     ]
    },
    {
     "data": {
      "text/plain": [
       "[0.768233154378601, 0.4060438847767175]"
      ]
     },
     "execution_count": 32,
     "metadata": {},
     "output_type": "execute_result"
    }
   ],
   "source": [
    "KNN_3(['PROGN','COBN_S' ,'COBN_M' ,'COBN_F','OCOD1','OCOD2','OCOD3','ISCEDL'])"
   ]
  },
  {
   "cell_type": "code",
   "execution_count": 33,
   "id": "8b29f5cd",
   "metadata": {},
   "outputs": [
    {
     "name": "stdout",
     "output_type": "stream",
     "text": [
      "Accuracy: 0.78\n",
      "F1-score: 0.50\n",
      "Accuracy: 0.78\n",
      "F1-score: 0.51\n",
      "Accuracy: 0.78\n",
      "F1-score: 0.50\n",
      "Accuracy: 0.78\n",
      "F1-score: 0.50\n",
      "Accuracy: 0.79\n",
      "F1-score: 0.50\n"
     ]
    },
    {
     "data": {
      "text/plain": [
       "[0.7829570871217518, 0.5027396581936558]"
      ]
     },
     "execution_count": 33,
     "metadata": {},
     "output_type": "execute_result"
    }
   ],
   "source": [
    "KNN_3(['ST005Q01TA',\n",
    " 'ST007Q01TA',\n",
    " 'ST011D18TA',\n",
    " 'ST011D19TA',\n",
    " 'ST013Q01TA',\n",
    " 'IC150Q06HA',\n",
    " 'IC150Q09HA',\n",
    " 'IC151Q06HA',\n",
    " 'IC151Q08HA',\n",
    " 'IC151Q09HA',\n",
    " 'IC152Q06HA',\n",
    " 'IC152Q08HA',\n",
    " 'IC152Q09HA',\n",
    " 'EC150Q06WA',\n",
    " 'EC151Q03WA',\n",
    " 'EC152Q01HA',\n",
    " 'EC153Q02HA',\n",
    " 'EC159Q01HA',\n",
    " 'FL164Q01HA',\n",
    " 'OCOD1',\n",
    " 'OCOD2',\n",
    " 'OCOD3',\n",
    " 'PROGN',\n",
    " 'ISCEDL',\n",
    " 'BMMJ1',\n",
    " 'BFMJ2',\n",
    " 'HISEI',\n",
    " 'BSMJ',\n",
    " 'CHANGE',\n",
    " 'ESCS',\n",
    " 'HOMEPOS',\n",
    " 'INFOCAR'])"
   ]
  },
  {
   "cell_type": "markdown",
   "id": "2ca6c637",
   "metadata": {},
   "source": [
    "## 二分类神经网络模型预测"
   ]
  },
  {
   "cell_type": "code",
   "execution_count": 40,
   "id": "8d918e6b",
   "metadata": {},
   "outputs": [],
   "source": [
    "def neur_(chosen_list,n,m,max_iter_,flag) :\n",
    "    chosen_list.append(\"REPEAT\")\n",
    "    df=data[chosen_list]\n",
    "    df=df.fillna(method='ffill')\n",
    "    df=df.fillna(method='bfill')\n",
    "    kf = StratifiedKFold(n_splits = 5,random_state=2023,shuffle=True)\n",
    "    X=np.array(df[chosen_list[:-1]])\n",
    "    y=np.array(df[\"REPEAT\"])\n",
    "    scaler = StandardScaler()\n",
    "    oversample = RandomOverSampler(sampling_strategy=1) #过采样\n",
    "    ave_f1_score=0\n",
    "    k=0\n",
    "    acc_aver=0\n",
    "    for train,valid in kf.split(X,y) :\n",
    "        if flag :\n",
    "            if k :\n",
    "                break\n",
    "            k+=1\n",
    "        X_train=np.array(X)[train]\n",
    "        y_train=np.array(y)[train]\n",
    "        X_test =np.array(X)[valid]\n",
    "        y_test=np.array(y)[valid]\n",
    "        scaler.fit(X_train)\n",
    "        X_train = scaler.transform(X_train)\n",
    "        X_test = scaler.transform(X_test)\n",
    "        X_train_over, y_train_over = oversample.fit_resample(X_train, y_train) #在X，y中进行过采样\n",
    "        mlp=MLPClassifier(solver='adam', alpha=0, hidden_layer_sizes=(m, n), random_state=1,max_iter=max_iter_) #构造神经网络\n",
    "        mlp.fit(X_train_over,y_train_over) #利用训练集进行神经网络训练\n",
    "        y_pred = mlp.predict(X_test) #利用预测集进行预测\n",
    "        ave_f1_score+=f1_score(y_test, y_pred)\n",
    "        acc_aver+=accuracy_score(y_test, y_pred)\n",
    "        print('Accuracy: %f' % accuracy_score(y_test, y_pred))\n",
    "        print('F1-score: %f' % f1_score(y_test, y_pred))\n",
    "    return [acc_aver/5,ave_f1_score/5]\n",
    "    #return ave_f1_score"
   ]
  },
  {
   "cell_type": "code",
   "execution_count": 4,
   "id": "12ff228e",
   "metadata": {},
   "outputs": [
    {
     "name": "stdout",
     "output_type": "stream",
     "text": [
      "1 0.3424697907456528\n",
      "2 0.3424697907456528\n",
      "3 0.3424697907456528\n",
      "4 0.3424697907456528\n",
      "5 0.2685700459714493\n",
      "6 0.8846468502863375\n",
      "7 0.30851241046143596\n",
      "8 0.340778022438922\n",
      "9 0.3365303718660609\n",
      "10 0.38844232022593955\n",
      "11 0.3424216401889223\n",
      "12 0.367074210975263\n",
      "13 0.3424697907456528\n",
      "14 0.3371541044344101\n",
      "15 0.3735772357723577\n",
      "16 0.3440743944636679\n",
      "17 0.35816814764183186\n",
      "18 0.3254461335095836\n",
      "19 0.3424697907456528\n",
      "20 0.3424697907456528\n",
      "21 0.3424697907456528\n",
      "22 0.3424697907456528\n",
      "23 0.24644243208279432\n",
      "24 0.33086345077876905\n",
      "25 0.3424697907456528\n",
      "26 0.35494386091995656\n",
      "27 0.35368956743002544\n",
      "28 0.33663751214771626\n",
      "29 0.2544052863436123\n",
      "30 0.3329986613119143\n",
      "31 0.09297625063163213\n",
      "32 0.31319270647121916\n",
      "33 0.3698612702049128\n",
      "34 0.3705306018577427\n",
      "35 0.3701158202876416\n",
      "36 0.2987633965375103\n",
      "37 0.34271968303381917\n",
      "38 0.32863487159683336\n",
      "39 0.21611129084438693\n",
      "40 0.3375543375543375\n",
      "41 0.3202357563850688\n",
      "42 0.3623963626638138\n",
      "43 0.3416309012875537\n",
      "44 0.38323840520748575\n",
      "45 0.20008661758336946\n",
      "46 0.27058823529411763\n",
      "47 0.2616474096161014\n",
      "48 0.32766895836035803\n",
      "49 0.3024584057611125\n",
      "50 0.3005359056806002\n",
      "51 0.6153846153846154\n",
      "52 0.8120759837177747\n",
      "53 0.076158940397351\n",
      "54 0.14795008912655971\n",
      "55 0.3684370257966616\n",
      "56 0.36623616236162365\n",
      "57 0.3693665300976993\n",
      "58 0.3691979911733374\n",
      "59 0.3660012099213551\n",
      "60 0.29738633867779485\n",
      "61 0.3027375201288245\n",
      "62 0.30666089965397925\n",
      "63 0.3397324025596277\n",
      "64 0.293834517533807\n",
      "65 0.3319460209358053\n",
      "66 0.2830692540502047\n",
      "67 0.3223159334397082\n",
      "68 0.29299363057324845\n",
      "69 0.1689616672869371\n",
      "70 0.31399968218655655\n",
      "71 0.2561551852772942\n",
      "72 0.1652627356598476\n",
      "73 0.326080100914538\n",
      "74 0.361198738170347\n",
      "75 0.2845241909644345\n",
      "76 0.32587475596936477\n",
      "77 0.3183013904547163\n",
      "78 0.3214946978623127\n",
      "79 0.2953175707000464\n",
      "80 0.3072463768115942\n",
      "81 0.32359321168814603\n",
      "82 0.31453394198203505\n",
      "83 0.3277213352685051\n",
      "84 0.27442371020856204\n",
      "85 0.34531392174704284\n",
      "86 0.31724535369543294\n",
      "87 0.29357412851742964\n",
      "88 0.3036227717078781\n",
      "89 0.3110918544194108\n",
      "90 0.33871691341408705\n",
      "91 0.3537033794431798\n",
      "92 0.14235976789168278\n",
      "93 0.242749731471536\n",
      "94 0.35400907715582447\n",
      "95 0.34267431597528686\n",
      "96 0.3432059687994573\n",
      "97 0.4167740088736224\n",
      "98 0.25233644859813087\n",
      "99 0.368935097668557\n",
      "100 0.382324949014276\n",
      "101 0.33011893281902926\n",
      "102 0.3153909465020576\n",
      "103 0.33251919050942075\n",
      "104 0.3384268940003217\n",
      "105 0.3121644139974079\n",
      "106 0.42177068214804064\n",
      "107 0.28359281437125755\n",
      "108 0.38645800063877356\n",
      "109 0.38860602724645654\n",
      "110 0.2857142857142857\n",
      "111 0.29689298043728424\n",
      "112 0.3611854070824863\n",
      "113 0.29277494812299565\n",
      "114 0.3439761600681141\n",
      "115 0.4466954500166058\n",
      "116 0.31841234840132304\n",
      "117 0.39832763207905736\n",
      "118 0.403543607759279\n",
      "119 0.25612144955925564\n",
      "120 0.3204175868299538\n",
      "121 0.3200887902330744\n",
      "122 0.29535495179666954\n",
      "123 0.31467710371819957\n",
      "124 0.31865042174320524\n",
      "125 0.27096436058700213\n",
      "126 0.3178639542275906\n",
      "127 0.2971468336812804\n",
      "128 0.2654144548795427\n",
      "129 0.33657351154313486\n",
      "130 0.3406846609611586\n",
      "131 0.15172413793103448\n",
      "132 0.3262531860662702\n",
      "133 0.21416353061922683\n",
      "134 0.4093913836334625\n",
      "135 0.3581357318070319\n",
      "136 0.3534883720930233\n",
      "137 0.3575874651212707\n",
      "138 0.33473154362416113\n",
      "139 0.35554809467852944\n",
      "140 0.2814756978333008\n",
      "141 0.25704336815447926\n",
      "142 0.35458227088645566\n",
      "143 0.31337016574585635\n",
      "144 0.3424697907456528\n",
      "145 0.37197747598542563\n",
      "146 0.28515842134519176\n",
      "147 0.27969174977334543\n",
      "148 0.3638357881541837\n",
      "149 0.29757029757029757\n",
      "150 0.3424697907456528\n",
      "151 0.3601496725912067\n",
      "152 0.2546459065796083\n",
      "153 0.2925648922129344\n",
      "154 0.44786680541103013\n",
      "155 0.34933452968446244\n",
      "156 0.3795239647864363\n",
      "157 0.3448275862068966\n",
      "158 0.3651175708202185\n",
      "159 0.31952662721893493\n",
      "160 0.2945091514143095\n",
      "161 0.34573434932018526\n",
      "162 0.3644578313253012\n",
      "163 0.35735135965586107\n",
      "164 0.35989717223650386\n",
      "165 0.335042735042735\n",
      "166 0.28589500316255534\n",
      "167 0.3692620569436374\n",
      "168 0.368398205758935\n",
      "169 0.37095501183898977\n",
      "170 0.3683654607869026\n",
      "171 0.3509948580371115\n",
      "172 0.3325798248092681\n",
      "173 0.36513470681458005\n",
      "174 0.22968081605791377\n",
      "175 0.30910609857978283\n",
      "176 0.2663677130044843\n",
      "177 0.28950718312420437\n",
      "178 0.30659386812263756\n",
      "179 0.2761627906976744\n",
      "180 0.2909817858729454\n",
      "181 0.23525890451960493\n",
      "182 0.2913299847128194\n",
      "183 0.22179853829043533\n",
      "184 0.23104\n",
      "185 0.3302876480541455\n",
      "186 0.1643835616438356\n",
      "187 0.2879438158408115\n",
      "188 0.3299698597824663\n",
      "189 0.23942153186930906\n",
      "190 0.2334918119387216\n",
      "191 0.33631898295290374\n",
      "192 0.3053408292340126\n",
      "193 0.1763341067285383\n",
      "194 0.2525987525987526\n",
      "195 0.2931097338680277\n",
      "196 0.254750175932442\n",
      "197 0.24418930271632597\n",
      "198 0.336827866080487\n",
      "199 0.3331005586592179\n",
      "200 0.2669048226588416\n",
      "201 0.2872017353579176\n",
      "202 0.23286540049545829\n",
      "203 0.1884776802747043\n",
      "204 0.3018867924528302\n",
      "205 0.30270043960644755\n",
      "206 0.1488294314381271\n",
      "207 0.30486918604651164\n",
      "208 0.15384615384615385\n",
      "209 0.34255672385168784\n",
      "210 0.19524680073126144\n",
      "211 0.30468364831553\n",
      "212 0.21344140493076663\n",
      "213 0.29973538609574213\n",
      "214 0.3495690519142113\n",
      "215 0.3254334340703038\n",
      "216 0.30781040107464974\n",
      "217 0.24478178368121442\n",
      "218 0.3438381937911571\n",
      "219 0.32\n",
      "220 0.3251791450457129\n",
      "221 0.34111643729704655\n",
      "222 0.3402919478888714\n",
      "223 0.29891192773557795\n",
      "224 0.30683355886332886\n",
      "225 0.3358922877052084\n",
      "226 0.30551250830197035\n",
      "227 0.32441409854216646\n",
      "228 0.27499999999999997\n",
      "229 0.3048679867986798\n",
      "230 0.32285199278990584\n",
      "231 0.34714813295034885\n",
      "232 0.3037022371807563\n",
      "233 0.16925996204933585\n",
      "234 0.3195534624106053\n",
      "235 0.24232545503939146\n",
      "236 0.3131067961165049\n",
      "237 0.34135888062523634\n",
      "238 0.2774736842105263\n",
      "239 0.3347856640899508\n",
      "240 0.3319118692253021\n",
      "241 0.2584963954685891\n",
      "242 0.3401900637555636\n",
      "243 0.2657377457078875\n",
      "244 0.24845360824742269\n",
      "245 0.28716216216216217\n",
      "246 0.3424697907456528\n",
      "247 0.24860260846420015\n",
      "248 0.32376724274615504\n",
      "249 0.2246932515337423\n",
      "250 0.24631217838765007\n",
      "251 0.37081339712918654\n",
      "252 0.3037194977493485\n",
      "253 0.31121700879765396\n",
      "254 0.27882037533512066\n",
      "255 0.36039768019884016\n",
      "256 0.2780094523213789\n",
      "257 0.2700555996822875\n",
      "258 0.3262569832402235\n",
      "259 0.34172736732570236\n",
      "260 0.3222106360792492\n",
      "261 0.3406735751295337\n",
      "262 0.31402273957769355\n",
      "263 0.292517006802721\n",
      "264 0.3123822572358281\n",
      "265 0.34073422730270386\n",
      "266 0.20399113082039913\n",
      "267 0.31772268135904497\n",
      "268 0.3443337484433375\n",
      "269 0.328872437357631\n",
      "270 0.315203955500618\n",
      "271 0.3016393442622951\n",
      "272 0.2933860938383268\n",
      "273 0.2880147227973315\n",
      "274 0.25574930502906246\n",
      "275 0.2957477305303392\n",
      "276 0.2793783169067475\n",
      "277 0.2781647850108095\n",
      "278 0.3583949007677821\n",
      "279 0.3448097333678488\n",
      "280 0.3156713066906152\n",
      "281 0.2958847736625514\n",
      "282 0.2335972850678733\n",
      "283 0.20776419841840402\n",
      "284 0.26715462031107046\n",
      "285 0.31539306449082066\n",
      "286 0.1524557956777996\n",
      "287 0.33509046872773895\n",
      "288 0.2966373098478783\n",
      "289 0.2553456508200124\n",
      "290 0.3184329482672024\n",
      "291 0.2796402289452167\n",
      "292 0.251892635925671\n",
      "293 0.21734191594093147\n",
      "294 0.21286789869952089\n",
      "295 0.23408039843472075\n",
      "296 0.26303621885435396\n",
      "297 0.31981897039411655\n",
      "298 0.3063880126182965\n",
      "299 0.28185580483554784\n",
      "300 0.3053557154276579\n",
      "301 0.35628131378734457\n",
      "302 0.3107672469374597\n",
      "303 0.32367149758454106\n",
      "304 0.3121308496138119\n",
      "305 0.3382072472981564\n",
      "306 0.3448421497201985\n",
      "307 0.3465909090909091\n",
      "308 0.3424697907456528\n",
      "309 0.3417195362065194\n",
      "310 0.34644808743169403\n",
      "311 0.35005236820667984\n",
      "312 0.36186400380408934\n",
      "313 0.35423669873652486\n",
      "314 0.3597689815466967\n",
      "315 0.35248746625530275\n",
      "316 0.3433979269941415\n",
      "317 0.3533048026628626\n",
      "318 0.3485457554977536\n",
      "319 0.3483076923076923\n",
      "320 0.35143689074566403\n",
      "321 0.35610502166709157\n",
      "322 0.3523236461400589\n",
      "323 0.34621398257761893\n",
      "324 0.3467197698860494\n",
      "325 0.35216110019646363\n",
      "326 0.3424697907456528\n",
      "327 0.3534386270364383\n",
      "328 0.35693974272173323\n",
      "329 0.3507214206437292\n",
      "330 0.3607939097335508\n",
      "331 0.34022358152288545\n",
      "332 0.33841592545531557\n",
      "333 0.33914849428868116\n",
      "334 0.3544137022397892\n",
      "335 0.3340532757379409\n",
      "336 0.35590969455511284\n",
      "337 0.33265379541911505\n",
      "338 0.3454524861252691\n",
      "339 0.34764328391237\n",
      "340 0.34386576596208324\n",
      "341 0.3415425154555589\n",
      "342 0.35363457760314343\n",
      "343 0.3469022323027337\n",
      "344 0.3392579426794046\n",
      "345 0.34438860971524293\n",
      "346 0.3400279239609065\n",
      "347 0.3424697907456528\n",
      "348 0.3424697907456528\n",
      "349 0.3424697907456528\n",
      "350 0.3424697907456528\n",
      "351 0.33853466983569286\n",
      "352 0.3424697907456528\n",
      "353 0.33774051381274856\n",
      "354 0.3424697907456528\n",
      "355 0.352413291292748\n",
      "356 0.3520437208243197\n",
      "357 0.3532003426753151\n"
     ]
    },
    {
     "name": "stdout",
     "output_type": "stream",
     "text": [
      "358 0.35472606863335343\n",
      "359 0.347915949018257\n",
      "360 0.3572978838849702\n",
      "361 0.35309809627743416\n",
      "362 0.3531442663378545\n",
      "363 0.3491843110031239\n",
      "364 0.3576006152268649\n",
      "365 0.352148891881964\n",
      "366 0.28967032967032963\n",
      "367 0.27586206896551724\n",
      "368 0.40035016049022465\n",
      "369 0.38226037195994284\n",
      "370 0.3940383830134749\n",
      "371 0.8846468502863375\n",
      "372 0.3012345679012346\n",
      "373 0.37019108280254776\n",
      "374 0.361428773118735\n",
      "375 0.2814868278599783\n",
      "376 0.36968856386332116\n",
      "377 0.14435815440840566\n",
      "378 0.420076377523186\n",
      "379 0.342041312272175\n",
      "380 0.35496465126094756\n",
      "381 0.35716741148160874\n",
      "382 0.3551046290424857\n",
      "383 0.365280863218026\n",
      "384 0.3583609060829728\n",
      "385 0.361400512382579\n",
      "386 0.35803051753972\n",
      "387 0.35377811959238603\n",
      "388 0.36944881889763775\n",
      "389 0.39190981432360744\n",
      "390 0.37936216396727335\n",
      "391 0.40617151058485834\n",
      "392 0.3246073298429319\n",
      "393 0.32536479354237813\n"
     ]
    }
   ],
   "source": [
    "#在所有特征中找到单个训练时f1-score比较大的特征，经过实验发现这样所有此类特征结合起来训练可以使得f1-score更大\n",
    "#暴力寻找\n",
    "cols=data.columns\n",
    "great_col=[]\n",
    "i=0\n",
    "for col in cols[7:400] :\n",
    "    i+=1\n",
    "    s=neur_([col],25,40,200,1)\n",
    "    print(i,s)\n",
    "    if s>0.37 :\n",
    "        great_col.append(col)"
   ]
  },
  {
   "cell_type": "code",
   "execution_count": 5,
   "id": "4fa04140",
   "metadata": {},
   "outputs": [
    {
     "name": "stdout",
     "output_type": "stream",
     "text": [
      "394 0.40785645004849663\n",
      "395 0.296680009418413\n",
      "396 0.2942372881355932\n",
      "397 0.3530872959545777\n",
      "398 0.32752214918548156\n",
      "399 0.3409041747782825\n",
      "400 0.37286324786324787\n",
      "401 0.40728884511204133\n",
      "402 0.2666036398014654\n",
      "403 0.4144547489606652\n",
      "404 0.3393752410335519\n",
      "405 0.3666282705282212\n",
      "406 0.36168628035155664\n",
      "407 0.27693677649154047\n",
      "408 0.3211108700368843\n",
      "409 0.3820532319391635\n",
      "410 0.3714072970960536\n",
      "411 0.3315987798313296\n",
      "412 0.35144980329302056\n",
      "413 0.3440555029959003\n",
      "414 0.3294450335807706\n",
      "415 0.3241795043536504\n",
      "416 0.29206963249516443\n",
      "417 0.3391632852945292\n",
      "418 0.32406334492081884\n",
      "419 0.2743558282208589\n",
      "420 0.2939541348158443\n",
      "421 0.3254390204607701\n",
      "422 0.36419753086419754\n",
      "423 0.3418270064135899\n",
      "424 0.3497558810474922\n",
      "425 0.34135060129509714\n",
      "426 0.2911917098445596\n",
      "427 0.31675675675675674\n",
      "428 0.32333129210042866\n",
      "429 0.27737881508078993\n",
      "430 0.35515750463248913\n",
      "431 0.2987537891545975\n",
      "432 0.31312356101304684\n",
      "433 0.2683131017161992\n",
      "434 0.33392910336610065\n",
      "435 0.36116264687693256\n",
      "436 0.3317683881064163\n",
      "437 0.29755992226301015\n",
      "438 0.2998868351565447\n",
      "439 0.3079497907949791\n",
      "440 0.3126894759636206\n",
      "441 0.31305936073059365\n",
      "442 0.2822465492622561\n",
      "443 0.36538765198168327\n",
      "444 0.31013584117032394\n",
      "445 0.32511302918207974\n",
      "446 0.29528339278636545\n",
      "447 0.24265505984766048\n",
      "448 0.32028321532694715\n",
      "449 0.3110343125154283\n",
      "450 0.31473214285714285\n",
      "451 0.2744329319518342\n",
      "452 0.2773403324584427\n",
      "453 0.30392156862745096\n",
      "454 0.3001782531194296\n",
      "455 0.3135019593872462\n",
      "456 0.31318419800095193\n",
      "457 0.3839368616527391\n",
      "458 0.3459308138372325\n",
      "459 0.32861565678903143\n",
      "460 0.35613738738738737\n",
      "461 0.34324249931186346\n",
      "462 0.35067232837933476\n",
      "463 0.3533107174268124\n",
      "464 0.3595128097438051\n",
      "465 0.3407155025553663\n",
      "466 0.36012496449872194\n",
      "467 0.35969603152265694\n",
      "468 0.36012952273687177\n",
      "469 0.3597369173577352\n",
      "470 0.35876463122267666\n",
      "471 0.3597898622745989\n",
      "472 0.36282940360610266\n",
      "473 0.30250201775625507\n",
      "474 0.31712473572938693\n"
     ]
    }
   ],
   "source": [
    "for col in cols[406:] :\n",
    "    s=neur_([col],25,40,200,1)\n",
    "    i+=1\n",
    "    print(i,s)\n",
    "    if s>0.38 :\n",
    "        great_col.append(col)"
   ]
  },
  {
   "cell_type": "code",
   "execution_count": 8,
   "id": "1398729c",
   "metadata": {},
   "outputs": [
    {
     "data": {
      "text/plain": [
       "['ST001D01T',\n",
       " 'ST005Q01TA',\n",
       " 'ST007Q01TA',\n",
       " 'ST011D18TA',\n",
       " 'ST011D19TA',\n",
       " 'ST013Q01TA',\n",
       " 'ST127Q01TA',\n",
       " 'ST127Q02TA',\n",
       " 'IC150Q06HA',\n",
       " 'IC150Q09HA',\n",
       " 'IC151Q06HA',\n",
       " 'IC151Q08HA',\n",
       " 'IC151Q09HA',\n",
       " 'IC152Q06HA',\n",
       " 'IC152Q08HA',\n",
       " 'IC152Q09HA',\n",
       " 'EC150Q06WA',\n",
       " 'EC151Q03WA',\n",
       " 'EC152Q01HA',\n",
       " 'EC153Q02HA',\n",
       " 'EC159Q01HA',\n",
       " 'FL164Q01HA',\n",
       " 'OCOD1',\n",
       " 'OCOD2',\n",
       " 'OCOD3',\n",
       " 'GRADE',\n",
       " 'PROGN',\n",
       " 'ISCEDL',\n",
       " 'BMMJ1',\n",
       " 'BFMJ2',\n",
       " 'HISEI',\n",
       " 'BSMJ',\n",
       " 'CHANGE',\n",
       " 'ESCS',\n",
       " 'HOMEPOS',\n",
       " 'INFOCAR']"
      ]
     },
     "execution_count": 8,
     "metadata": {},
     "output_type": "execute_result"
    }
   ],
   "source": [
    "great_col"
   ]
  },
  {
   "cell_type": "code",
   "execution_count": 43,
   "id": "64dc5bc4",
   "metadata": {},
   "outputs": [
    {
     "name": "stdout",
     "output_type": "stream",
     "text": [
      "Accuracy: 0.782835\n",
      "F1-score: 0.583258\n",
      "Accuracy: 0.793480\n",
      "F1-score: 0.596946\n",
      "Accuracy: 0.784944\n",
      "F1-score: 0.578336\n",
      "Accuracy: 0.797155\n",
      "F1-score: 0.602370\n",
      "Accuracy: 0.805216\n",
      "F1-score: 0.584996\n"
     ]
    },
    {
     "data": {
      "text/plain": [
       "[0.7927259552942015, 0.5891811346899444]"
      ]
     },
     "execution_count": 43,
     "metadata": {},
     "output_type": "execute_result"
    }
   ],
   "source": [
    "neur_(['ST005Q01TA',\n",
    " 'ST007Q01TA',\n",
    " 'ST011D18TA',\n",
    " 'ST011D19TA',\n",
    " 'ST013Q01TA',\n",
    " 'IC150Q06HA',\n",
    " 'IC150Q09HA',\n",
    " 'IC151Q06HA',\n",
    " 'IC151Q08HA',\n",
    " 'IC151Q09HA',\n",
    " 'IC152Q06HA',\n",
    " 'IC152Q08HA',\n",
    " 'IC152Q09HA',\n",
    " 'EC150Q06WA',\n",
    " 'EC151Q03WA',\n",
    " 'EC152Q01HA',\n",
    " 'EC153Q02HA',\n",
    " 'EC159Q01HA',\n",
    " 'FL164Q01HA',\n",
    " 'OCOD1',\n",
    " 'OCOD2',\n",
    " 'OCOD3',\n",
    " 'PROGN',\n",
    " 'ISCEDL',\n",
    " 'BMMJ1',\n",
    " 'BFMJ2',\n",
    " 'HISEI',\n",
    " 'BSMJ',\n",
    " 'CHANGE',\n",
    " 'ESCS',\n",
    " 'HOMEPOS',\n",
    " 'INFOCAR'],30,40,500,0)"
   ]
  },
  {
   "cell_type": "code",
   "execution_count": 45,
   "id": "2a4f5ca9",
   "metadata": {},
   "outputs": [
    {
     "name": "stdout",
     "output_type": "stream",
     "text": [
      "Accuracy: 0.801209\n",
      "F1-score: 0.618082\n",
      "Accuracy: 0.805335\n",
      "F1-score: 0.622355\n",
      "Accuracy: 0.790279\n",
      "F1-score: 0.609578\n",
      "Accuracy: 0.803794\n",
      "F1-score: 0.633282\n",
      "Accuracy: 0.791346\n",
      "F1-score: 0.616558\n"
     ]
    },
    {
     "data": {
      "text/plain": [
       "[0.7983923838979529, 0.619971074340665]"
      ]
     },
     "execution_count": 45,
     "metadata": {},
     "output_type": "execute_result"
    }
   ],
   "source": [
    "neur_(['ST005Q01TA',\n",
    " 'ST007Q01TA',\n",
    " 'ST011D18TA',\n",
    " 'ST011D19TA',\n",
    " 'ST013Q01TA',\n",
    " 'IC150Q06HA',\n",
    " 'IC150Q09HA',\n",
    " 'IC151Q06HA',\n",
    " 'IC151Q08HA',\n",
    " 'IC151Q09HA',\n",
    " 'IC152Q06HA',\n",
    " 'IC152Q08HA',\n",
    " 'IC152Q09HA',\n",
    " 'EC150Q06WA',\n",
    " 'EC151Q03WA',\n",
    " 'EC152Q01HA',\n",
    " 'EC153Q02HA',\n",
    " 'EC159Q01HA',\n",
    " 'FL164Q01HA',\n",
    " 'OCOD1',\n",
    " 'OCOD2',\n",
    " 'OCOD3',\n",
    " 'PROGN',\n",
    " 'ISCEDL',\n",
    " 'BMMJ1',\n",
    " 'BFMJ2',\n",
    " 'HISEI',\n",
    " 'BSMJ',\n",
    " 'CHANGE',\n",
    " 'ESCS',\n",
    " 'HOMEPOS',\n",
    " 'INFOCAR'],30,10,500,0)"
   ]
  },
  {
   "cell_type": "code",
   "execution_count": 46,
   "id": "2cc2ebe8",
   "metadata": {},
   "outputs": [
    {
     "name": "stdout",
     "output_type": "stream",
     "text": [
      "Accuracy: 0.789118\n",
      "F1-score: 0.608581\n",
      "Accuracy: 0.813397\n",
      "F1-score: 0.635141\n",
      "Accuracy: 0.786603\n",
      "F1-score: 0.606643\n",
      "Accuracy: 0.808062\n",
      "F1-score: 0.634949\n",
      "Accuracy: 0.788975\n",
      "F1-score: 0.611184\n"
     ]
    },
    {
     "data": {
      "text/plain": [
       "[0.7972308448591479, 0.6192997610250399]"
      ]
     },
     "execution_count": 46,
     "metadata": {},
     "output_type": "execute_result"
    }
   ],
   "source": [
    "neur_(['ST005Q01TA',\n",
    " 'ST007Q01TA',\n",
    " 'ST011D18TA',\n",
    " 'ST011D19TA',\n",
    " 'ST013Q01TA',\n",
    " 'IC150Q06HA',\n",
    " 'IC150Q09HA',\n",
    " 'IC151Q06HA',\n",
    " 'IC151Q08HA',\n",
    " 'IC151Q09HA',\n",
    " 'IC152Q06HA',\n",
    " 'IC152Q08HA',\n",
    " 'IC152Q09HA',\n",
    " 'EC150Q06WA',\n",
    " 'EC151Q03WA',\n",
    " 'EC152Q01HA',\n",
    " 'EC153Q02HA',\n",
    " 'EC159Q01HA',\n",
    " 'FL164Q01HA',\n",
    " 'OCOD1',\n",
    " 'OCOD2',\n",
    " 'OCOD3',\n",
    " 'PROGN',\n",
    " 'ISCEDL',\n",
    " 'BMMJ1',\n",
    " 'BFMJ2',\n",
    " 'HISEI',\n",
    " 'BSMJ',\n",
    " 'CHANGE',\n",
    " 'ESCS',\n",
    " 'HOMEPOS',\n",
    " 'INFOCAR'],40,10,500,0)"
   ]
  },
  {
   "cell_type": "code",
   "execution_count": 49,
   "id": "eec9a48d",
   "metadata": {},
   "outputs": [
    {
     "name": "stdout",
     "output_type": "stream",
     "text": [
      "Accuracy: 0.790422\n",
      "F1-score: 0.613805\n",
      "Accuracy: 0.804149\n",
      "F1-score: 0.632399\n",
      "Accuracy: 0.780202\n",
      "F1-score: 0.604691\n",
      "Accuracy: 0.797273\n",
      "F1-score: 0.634459\n",
      "Accuracy: 0.790990\n",
      "F1-score: 0.621593\n"
     ]
    },
    {
     "data": {
      "text/plain": [
       "[0.7926072217664268, 0.6213893055134319]"
      ]
     },
     "execution_count": 49,
     "metadata": {},
     "output_type": "execute_result"
    }
   ],
   "source": [
    "neur_(['ST005Q01TA',\n",
    " 'ST007Q01TA',\n",
    " 'ST011D18TA',\n",
    " 'ST011D19TA',\n",
    " 'ST013Q01TA',\n",
    " 'IC150Q06HA',\n",
    " 'IC150Q09HA',\n",
    " 'IC151Q06HA',\n",
    " 'IC151Q08HA',\n",
    " 'IC151Q09HA',\n",
    " 'IC152Q06HA',\n",
    " 'IC152Q08HA',\n",
    " 'IC152Q09HA',\n",
    " 'EC150Q06WA',\n",
    " 'EC151Q03WA',\n",
    " 'EC152Q01HA',\n",
    " 'EC153Q02HA',\n",
    " 'EC159Q01HA',\n",
    " 'FL164Q01HA',\n",
    " 'OCOD1',\n",
    " 'OCOD2',\n",
    " 'OCOD3',\n",
    " 'PROGN',\n",
    " 'ISCEDL',\n",
    " 'BMMJ1',\n",
    " 'BFMJ2',\n",
    " 'HISEI',\n",
    " 'BSMJ',\n",
    " 'CHANGE',\n",
    " 'ESCS',\n",
    " 'HOMEPOS',\n",
    " 'INFOCAR'],30,4,500,0)"
   ]
  },
  {
   "cell_type": "code",
   "execution_count": 61,
   "id": "952edd48",
   "metadata": {},
   "outputs": [
    {
     "name": "stdout",
     "output_type": "stream",
     "text": [
      "Accuracy: 0.791015\n",
      "F1-score: 0.619797\n",
      "Accuracy: 0.796443\n",
      "F1-score: 0.628113\n",
      "Accuracy: 0.784114\n",
      "F1-score: 0.608134\n",
      "Accuracy: 0.797155\n",
      "F1-score: 0.629413\n",
      "Accuracy: 0.801186\n",
      "F1-score: 0.626254\n"
     ]
    },
    {
     "data": {
      "text/plain": [
       "[0.7939824300012113, 0.622342343372086]"
      ]
     },
     "execution_count": 61,
     "metadata": {},
     "output_type": "execute_result"
    }
   ],
   "source": [
    "neur_(['ST005Q01TA',\n",
    " 'ST007Q01TA',\n",
    " 'ST011D18TA',\n",
    " 'ST011D19TA',\n",
    " 'ST013Q01TA',\n",
    " 'IC150Q06HA',\n",
    " 'IC150Q09HA',\n",
    " 'IC151Q06HA',\n",
    " 'IC151Q08HA',\n",
    " 'IC151Q09HA',\n",
    " 'IC152Q06HA',\n",
    " 'IC152Q08HA',\n",
    " 'IC152Q09HA',\n",
    " 'EC150Q06WA',\n",
    " 'EC151Q03WA',\n",
    " 'EC152Q01HA',\n",
    " 'EC153Q02HA',\n",
    " 'EC159Q01HA',\n",
    " 'FL164Q01HA',\n",
    " 'OCOD1',\n",
    " 'OCOD2',\n",
    " 'OCOD3',\n",
    " 'PROGN',\n",
    " 'ISCEDL',\n",
    " 'BMMJ1',\n",
    " 'BFMJ2',\n",
    " 'HISEI',\n",
    " 'BSMJ',\n",
    " 'CHANGE',\n",
    " 'ESCS',\n",
    " 'HOMEPOS',\n",
    " 'INFOCAR'],29,3,500,0)"
   ]
  }
 ],
 "metadata": {
  "kernelspec": {
   "display_name": "Python 3 (ipykernel)",
   "language": "python",
   "name": "python3"
  },
  "language_info": {
   "codemirror_mode": {
    "name": "ipython",
    "version": 3
   },
   "file_extension": ".py",
   "mimetype": "text/x-python",
   "name": "python",
   "nbconvert_exporter": "python",
   "pygments_lexer": "ipython3",
   "version": "3.9.7"
  }
 },
 "nbformat": 4,
 "nbformat_minor": 5
}
